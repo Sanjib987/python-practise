{
  "nbformat": 4,
  "nbformat_minor": 0,
  "metadata": {
    "colab": {
      "provenance": [],
      "authorship_tag": "ABX9TyNhyBM2JNOFyhWxWYZeM3xL",
      "include_colab_link": true
    },
    "kernelspec": {
      "name": "python3",
      "display_name": "Python 3"
    },
    "language_info": {
      "name": "python"
    }
  },
  "cells": [
    {
      "cell_type": "markdown",
      "metadata": {
        "id": "view-in-github",
        "colab_type": "text"
      },
      "source": [
        "<a href=\"https://colab.research.google.com/github/Sanjib987/python-practise/blob/main/Assignment_1.ipynb\" target=\"_parent\"><img src=\"https://colab.research.google.com/assets/colab-badge.svg\" alt=\"Open In Colab\"/></a>"
      ]
    },
    {
      "cell_type": "code",
      "execution_count": 3,
      "metadata": {
        "colab": {
          "base_uri": "https://localhost:8080/"
        },
        "id": "tNISFwgtPlUV",
        "outputId": "b769e1f0-930e-44b4-a016-501528dfb144"
      },
      "outputs": [
        {
          "output_type": "stream",
          "name": "stdout",
          "text": [
            "Hello\n",
            "\n",
            "World !\n"
          ]
        }
      ],
      "source": [
        "print('Hello')\n",
        "print()\n",
        "print('World !')"
      ]
    },
    {
      "cell_type": "code",
      "source": [
        "print(\"Hello 40\")\n",
        "print(\"50 World !\")"
      ],
      "metadata": {
        "colab": {
          "base_uri": "https://localhost:8080/"
        },
        "id": "KNQfqPjdP16C",
        "outputId": "3f32a35a-4b08-403d-8558-3210257f489b"
      },
      "execution_count": 4,
      "outputs": [
        {
          "output_type": "stream",
          "name": "stdout",
          "text": [
            "Hello 40\n",
            "50 World !\n"
          ]
        }
      ]
    },
    {
      "cell_type": "code",
      "source": [
        "print(\"Hello\")\n",
        "print(\"World !\")"
      ],
      "metadata": {
        "colab": {
          "base_uri": "https://localhost:8080/"
        },
        "id": "T9ig9btxQBto",
        "outputId": "cdd4f9a7-5e1b-4776-a9b1-3c48d4064483"
      },
      "execution_count": 5,
      "outputs": [
        {
          "output_type": "stream",
          "name": "stdout",
          "text": [
            "Hello\n",
            "World !\n"
          ]
        }
      ]
    },
    {
      "cell_type": "code",
      "source": [
        "print(\"Hello World !\")"
      ],
      "metadata": {
        "colab": {
          "base_uri": "https://localhost:8080/"
        },
        "id": "YWtISzYZQN34",
        "outputId": "0c5b3d25-90d9-48f8-c392-fb3a9ff9df30"
      },
      "execution_count": 6,
      "outputs": [
        {
          "output_type": "stream",
          "name": "stdout",
          "text": [
            "Hello World !\n"
          ]
        }
      ]
    },
    {
      "cell_type": "code",
      "source": [
        "print(\"1 3 5 7 9\")"
      ],
      "metadata": {
        "colab": {
          "base_uri": "https://localhost:8080/"
        },
        "id": "E5ZD8hisQWMq",
        "outputId": "b1e4610b-bb87-40a0-8216-26a7a9092cb7"
      },
      "execution_count": 8,
      "outputs": [
        {
          "output_type": "stream",
          "name": "stdout",
          "text": [
            "1 3 5 7 9\n"
          ]
        }
      ]
    },
    {
      "cell_type": "code",
      "source": [
        "print(6+3)\n",
        "print(6-3)\n",
        "print(6*3)\n",
        "print(6/3)"
      ],
      "metadata": {
        "colab": {
          "base_uri": "https://localhost:8080/"
        },
        "id": "PtiI99nEQioc",
        "outputId": "384664cb-3273-4479-c1ba-7c85074048ea"
      },
      "execution_count": 9,
      "outputs": [
        {
          "output_type": "stream",
          "name": "stdout",
          "text": [
            "9\n",
            "3\n",
            "18\n",
            "2.0\n"
          ]
        }
      ]
    },
    {
      "cell_type": "code",
      "source": [
        "print(\"0 2 4 6 8\")"
      ],
      "metadata": {
        "colab": {
          "base_uri": "https://localhost:8080/"
        },
        "id": "6EsLpC7kQilN",
        "outputId": "ebd1c8cf-9a26-4a9e-b054-7995a8325785"
      },
      "execution_count": 10,
      "outputs": [
        {
          "output_type": "stream",
          "name": "stdout",
          "text": [
            "0 2 4 6 8\n"
          ]
        }
      ]
    },
    {
      "cell_type": "code",
      "source": [],
      "metadata": {
        "id": "aUudKIqGQijY"
      },
      "execution_count": null,
      "outputs": []
    }
  ]
}