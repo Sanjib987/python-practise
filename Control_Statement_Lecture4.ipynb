{
  "nbformat": 4,
  "nbformat_minor": 0,
  "metadata": {
    "colab": {
      "provenance": [],
      "authorship_tag": "ABX9TyMtdG0FqqBZdSrYwoX5R1UN",
      "include_colab_link": true
    },
    "kernelspec": {
      "name": "python3",
      "display_name": "Python 3"
    },
    "language_info": {
      "name": "python"
    }
  },
  "cells": [
    {
      "cell_type": "markdown",
      "metadata": {
        "id": "view-in-github",
        "colab_type": "text"
      },
      "source": [
        "<a href=\"https://colab.research.google.com/github/Sanjib987/python-practise/blob/main/Control_Statement_Lecture4.ipynb\" target=\"_parent\"><img src=\"https://colab.research.google.com/assets/colab-badge.svg\" alt=\"Open In Colab\"/></a>"
      ]
    },
    {
      "cell_type": "code",
      "execution_count": 1,
      "metadata": {
        "colab": {
          "base_uri": "https://localhost:8080/"
        },
        "id": "9hb44O3BW8A7",
        "outputId": "b36d7894-d77e-4e9f-9464-1241ad7ed56b"
      },
      "outputs": [
        {
          "output_type": "stream",
          "name": "stdout",
          "text": [
            "today we are going to learn control statement\n"
          ]
        }
      ],
      "source": [
        "print(\"today we are going to learn control statement\")"
      ]
    },
    {
      "cell_type": "code",
      "source": [
        "age = 26\n",
        "print(age>=18)"
      ],
      "metadata": {
        "colab": {
          "base_uri": "https://localhost:8080/"
        },
        "id": "3c7SizlaXA__",
        "outputId": "db003502-b06a-47c5-c0bf-9a0178ba47aa"
      },
      "execution_count": 2,
      "outputs": [
        {
          "output_type": "stream",
          "name": "stdout",
          "text": [
            "True\n"
          ]
        }
      ]
    },
    {
      "cell_type": "code",
      "source": [
        "# indentation>> :\n",
        "age = 26\n",
        "\n",
        "if age>=18:\n",
        "    print(\"You should vote\")\n",
        "    print(\"Democarcy works because of your votes\")\n",
        "    print(\"Your age next year will be\", age+1)"
      ],
      "metadata": {
        "colab": {
          "base_uri": "https://localhost:8080/"
        },
        "id": "szm_QUV-XORm",
        "outputId": "826657ca-0d8d-48da-d9c7-b51560e23d5f"
      },
      "execution_count": 3,
      "outputs": [
        {
          "output_type": "stream",
          "name": "stdout",
          "text": [
            "You should vote\n",
            "Democarcy works because of your votes\n",
            "Your age next year will be 27\n"
          ]
        }
      ]
    },
    {
      "cell_type": "code",
      "source": [
        "# indentation>> :\n",
        "age = 2\n",
        "\n",
        "if age>=18:\n",
        "    print(\"You should vote\")\n",
        "    print(\"Democarcy works because of your votes\")\n",
        "    print(\"Your age next year will be\", age+1)\n",
        "# no output"
      ],
      "metadata": {
        "id": "pye48txEX43K"
      },
      "execution_count": 5,
      "outputs": []
    },
    {
      "cell_type": "code",
      "source": [
        "# this code runs will always run\n",
        "# if <condition>:\n",
        "    # this code runs if the <condition> is True\n",
        "    # this code runs if the <condition> is True\n",
        "    # this code runs if the <condition> is True\n",
        "    # this code runs if the <condition> is True\n",
        "    # this code runs if the <condition> is True\n",
        "# this code runs will always run"
      ],
      "metadata": {
        "id": "sL0ldhQiYRcO"
      },
      "execution_count": 7,
      "outputs": []
    },
    {
      "cell_type": "code",
      "source": [
        "# indentation>> :\n",
        "age = 2\n",
        "\n",
        "if age>=18:\n",
        "    print(\"You should vote\")\n",
        "    print(\"Democarcy works because of your votes\")\n",
        "    print(\"Your age next year will be\", age+1)\n",
        "\n",
        "if not age>=18:\n",
        "    print(\"You should NOT vote\")\n",
        "    print(\"Try next year\")"
      ],
      "metadata": {
        "colab": {
          "base_uri": "https://localhost:8080/"
        },
        "id": "kqISftUdYm4W",
        "outputId": "4b809093-42c0-44d9-9b51-147238f2645b"
      },
      "execution_count": 9,
      "outputs": [
        {
          "output_type": "stream",
          "name": "stdout",
          "text": [
            "You should NOT vote\n",
            "Try next year\n"
          ]
        }
      ]
    },
    {
      "cell_type": "code",
      "source": [
        "# indentation>> :\n",
        "age = 26\n",
        "\n",
        "if age>=18:\n",
        "    print(\"You should vote\")\n",
        "    print(\"Democarcy works because of your votes\")\n",
        "    print(\"Your age next year will be\", age+1)\n",
        "\n",
        "if not age>=18:\n",
        "    print(\"You should NOT vote\")\n",
        "    print(\"Try next year\")"
      ],
      "metadata": {
        "colab": {
          "base_uri": "https://localhost:8080/"
        },
        "id": "lk6H6tcoacTp",
        "outputId": "6649e028-90a2-4abd-bf6b-1532e5ba2eec"
      },
      "execution_count": 10,
      "outputs": [
        {
          "output_type": "stream",
          "name": "stdout",
          "text": [
            "You should vote\n",
            "Democarcy works because of your votes\n",
            "Your age next year will be 27\n"
          ]
        }
      ]
    },
    {
      "cell_type": "code",
      "source": [
        "# if  - else\n",
        "\n",
        "\n",
        "age = 2\n",
        "\n",
        "if age>=18:\n",
        "    print(\"You should vote\")\n",
        "    print(\"Democarcy works because of your votes\")\n",
        "    print(\"Your age next year will be\", age+1)\n",
        "else:\n",
        "    print(\"You should NOT vote\")\n",
        "    print(\"Try next year\")"
      ],
      "metadata": {
        "colab": {
          "base_uri": "https://localhost:8080/"
        },
        "id": "YrOHLG2MavkM",
        "outputId": "2d5f2aa7-9bc7-4737-e560-f52c11357817"
      },
      "execution_count": 11,
      "outputs": [
        {
          "output_type": "stream",
          "name": "stdout",
          "text": [
            "You should NOT vote\n",
            "Try next year\n"
          ]
        }
      ]
    },
    {
      "cell_type": "code",
      "source": [
        "# if  - else\n",
        "\n",
        "\n",
        "age = 26\n",
        "\n",
        "if age>=18:\n",
        "    print(\"You should vote\")\n",
        "    print(\"Democarcy works because of your votes\")\n",
        "    print(\"Your age next year will be\", age+1)\n",
        "else:\n",
        "    print(\"You should NOT vote\")\n",
        "    print(\"Try next year\")"
      ],
      "metadata": {
        "colab": {
          "base_uri": "https://localhost:8080/"
        },
        "id": "IOcB5JgUa1V8",
        "outputId": "22972b69-cb4f-4f01-a436-d807cfacbe38"
      },
      "execution_count": 12,
      "outputs": [
        {
          "output_type": "stream",
          "name": "stdout",
          "text": [
            "You should vote\n",
            "Democarcy works because of your votes\n",
            "Your age next year will be 27\n"
          ]
        }
      ]
    },
    {
      "cell_type": "code",
      "source": [
        "# this code runs will always run\n",
        "#if <condition>:\n",
        "    # this code runs if the <condition> is True\n",
        "    # this code runs if the <condition> is True\n",
        "    # this code runs if the <condition> is True\n",
        "    # this code runs if the <condition> is True\n",
        "    # this code runs if the <condition> is True\n",
        "#else:\n",
        "    # this code runs if the <condition> is False\n",
        "    # this code runs if the <condition> is False\n",
        "    # this code runs if the <condition> is False\n",
        "# this code runs will always run"
      ],
      "metadata": {
        "id": "afOKBNK7a1RY"
      },
      "execution_count": 13,
      "outputs": []
    },
    {
      "cell_type": "code",
      "source": [
        "# IndentationError: unexpected indent >> Indentation sapces are not same everywhere"
      ],
      "metadata": {
        "id": "RAJdScpSa1Pp"
      },
      "execution_count": null,
      "outputs": []
    },
    {
      "cell_type": "code",
      "source": [
        "chefMood = \"Happy\"\n",
        "if chefMood == \"Happy\":\n",
        "    qualityOfFood = \"Great\"\n",
        "else:\n",
        "    qualityOfFood = \"NOT Great\"\n",
        "print(\"The food quality will be\", qualityOfFood)"
      ],
      "metadata": {
        "colab": {
          "base_uri": "https://localhost:8080/"
        },
        "id": "b952DPP2a1MF",
        "outputId": "29ef3c40-e192-4f38-be35-04ca6c5d42b5"
      },
      "execution_count": 14,
      "outputs": [
        {
          "output_type": "stream",
          "name": "stdout",
          "text": [
            "The food quality will be Great\n"
          ]
        }
      ]
    },
    {
      "cell_type": "code",
      "source": [
        "chefMood = \"Sad\"\n",
        "if chefMood == \"Happy\":\n",
        "    qualityOfFood = \"Great\"\n",
        "else:\n",
        "    qualityOfFood = \"NOT Great\"\n",
        "print(\"The food quality will be\", qualityOfFood)"
      ],
      "metadata": {
        "colab": {
          "base_uri": "https://localhost:8080/"
        },
        "id": "u8mwrNKaa1KT",
        "outputId": "0c65e79b-8503-4dba-a465-a60422d09520"
      },
      "execution_count": 15,
      "outputs": [
        {
          "output_type": "stream",
          "name": "stdout",
          "text": [
            "The food quality will be NOT Great\n"
          ]
        }
      ]
    },
    {
      "cell_type": "code",
      "source": [
        "chefMood = \"Happy\"\n",
        "if chefMood == \"Happy\":\n",
        "    qualityOfFood = \"Great\"\n",
        "else:\n",
        "    qualityOfFood = \"NOT Great\"\n",
        "print(\"The food quality will be\", qualityOfFood)\n",
        "\n",
        "\n",
        "if qualityOfFood == \"Great\":\n",
        "    print(\"cutomer throws 🌹\")\n",
        "else:\n",
        "    print(\"cutomer throws 🍅\")"
      ],
      "metadata": {
        "colab": {
          "base_uri": "https://localhost:8080/"
        },
        "id": "I1qZSvSTa1HN",
        "outputId": "ed60416f-9266-43fb-f9fb-043e541b33df"
      },
      "execution_count": 16,
      "outputs": [
        {
          "output_type": "stream",
          "name": "stdout",
          "text": [
            "The food quality will be Great\n",
            "cutomer throws 🌹\n"
          ]
        }
      ]
    },
    {
      "cell_type": "code",
      "source": [
        "chefMood = \"Sad\"\n",
        "if chefMood == \"Happy\":\n",
        "    qualityOfFood = \"Great\"\n",
        "else:\n",
        "    qualityOfFood = \"NOT Great\"\n",
        "print(\"The food quality will be\", qualityOfFood)\n",
        "\n",
        "\n",
        "if qualityOfFood == \"Great\":\n",
        "    print(\"cutomer throws 🌹\")\n",
        "else:\n",
        "    print(\"cutomer throws 🍅\")"
      ],
      "metadata": {
        "colab": {
          "base_uri": "https://localhost:8080/"
        },
        "id": "4m-QDLysa1Fo",
        "outputId": "c352a384-0039-4f6d-a70c-ae424572ec0c"
      },
      "execution_count": 17,
      "outputs": [
        {
          "output_type": "stream",
          "name": "stdout",
          "text": [
            "The food quality will be NOT Great\n",
            "cutomer throws 🍅\n"
          ]
        }
      ]
    },
    {
      "cell_type": "code",
      "source": [
        "print(\"\"\"Question 1:1. ask the user to give some integer input 2. calculate cube of the input integer.3. if cube >50:    if yes: say \"that is huge\"\n",
        "    if no: say \"that is tiny\"4. say \"execution COMPLETE\"\n",
        "\"\"\")\n",
        "a = int(input())\n",
        "c = a**3\n",
        "print(c)\n",
        "if(c > 50):\n",
        "  print(\"that is huge\")\n",
        "else:\n",
        "  print(\"that is tiny\")\n",
        "print(\"execution COMPLETE\")"
      ],
      "metadata": {
        "colab": {
          "base_uri": "https://localhost:8080/"
        },
        "id": "YukjCbj4b0xe",
        "outputId": "dd382f2e-eb01-4129-a9db-f10a343c8576"
      },
      "execution_count": 28,
      "outputs": [
        {
          "output_type": "stream",
          "name": "stdout",
          "text": [
            "Question 1:1. ask the user to give some integer input 2. calculate cube of the input integer.3. if cube >50:    if yes: say \"that is huge\"\n",
            "    if no: say \"that is tiny\"4. say \"execution COMPLETE\"\n",
            "\n",
            "5\n",
            "125\n",
            "that is huge\n",
            "execution COMPLETE\n"
          ]
        }
      ]
    },
    {
      "cell_type": "code",
      "source": [
        "# Greeting clock\n",
        "# Good morning, Good afternoon, Good evening, Good night\n",
        "time = int(input())\n",
        "\n",
        "if time>=9 and time<12:\n",
        "    print(\"Good morning\")\n",
        "else:\n",
        "    if time>=12 and time<17:\n",
        "        print(\"Good afternoon\")\n",
        "    else:\n",
        "        if time>=17 and time<20:\n",
        "            print(\"Good evening\")\n",
        "        else:\n",
        "            print(\"Good night\")"
      ],
      "metadata": {
        "colab": {
          "base_uri": "https://localhost:8080/"
        },
        "id": "z1pF_wFYb_k8",
        "outputId": "3f914577-67ff-44f9-88cf-255d104074e4"
      },
      "execution_count": 27,
      "outputs": [
        {
          "output_type": "stream",
          "name": "stdout",
          "text": [
            "1\n",
            "Good night\n"
          ]
        }
      ]
    },
    {
      "cell_type": "code",
      "source": [
        "# Greeting clock\n",
        "# Good morning, Good afternoon, Good evening, Good night\n",
        "\n",
        "# else if >> elif\n",
        "\n",
        "time = int(input())\n",
        "\n",
        "if time>=9 and time<12:\n",
        "    print(\"Good morning\")\n",
        "elif time>=12 and time<17:\n",
        "    print(\"Good afternoon\")\n",
        "elif time>=17 and time<20:\n",
        "    print(\"Good evening\")\n",
        "else:\n",
        "    print(\"Good night\")"
      ],
      "metadata": {
        "colab": {
          "base_uri": "https://localhost:8080/"
        },
        "id": "phMlnX3IhagN",
        "outputId": "36ba8ad9-9efc-4a43-8d76-c23ed9093016"
      },
      "execution_count": 29,
      "outputs": [
        {
          "output_type": "stream",
          "name": "stdout",
          "text": [
            "11\n",
            "Good morning\n"
          ]
        }
      ]
    },
    {
      "cell_type": "code",
      "source": [
        "print(\"\"\"Question 2:1. ask the user to enter an integer 2. check if it is positive(>0) OR it is not positive eg:\n",
        "5>> positive 0>> not positive-10>> not positive\"\"\")\n",
        "\n",
        "A = int(input())\n",
        "if A > 0:\n",
        "  print(\"Positive\")\n",
        "elif A < 0:\n",
        "  print(\"Not positive\")\n",
        "else:\n",
        "  print(\"Zero\")"
      ],
      "metadata": {
        "colab": {
          "base_uri": "https://localhost:8080/"
        },
        "id": "18T4fhhPb_i8",
        "outputId": "24838a43-883e-487a-bd81-5c61380db383"
      },
      "execution_count": 32,
      "outputs": [
        {
          "output_type": "stream",
          "name": "stdout",
          "text": [
            "Question 2:1. ask the user to enter an integer 2. check if it is positive(>0) OR it is not positive eg:\n",
            "5>> positive 0>> not positive-10>> not positive\n",
            "0\n",
            "Zero\n"
          ]
        }
      ]
    },
    {
      "cell_type": "code",
      "source": [
        "print(\"\"\"Question 3 - Take a non-negative single digit positive number as input. If num**5%50+20-6 is > 15 then print(\"BLACK\") else print(\"BLUE\").\n",
        "Note - Reject by saying \"INVALID INPUT\" any inputs which are not single digit or positive\"\"\")"
      ],
      "metadata": {
        "colab": {
          "base_uri": "https://localhost:8080/"
        },
        "id": "JjwBVhIbb_gF",
        "outputId": "9cb3d775-c230-4c60-e9c3-ce078d1fda02"
      },
      "execution_count": 33,
      "outputs": [
        {
          "output_type": "stream",
          "name": "stdout",
          "text": [
            "Question 3 - Take a non-negative single digit positive number as input. If num**5%50+20-6 is > 15 then print(\"BLACK\") else print(\"BLUE\").\n",
            "Note - Reject by saying \"INVALID INPUT\" any inputs which are not single digit or positive\n"
          ]
        }
      ]
    },
    {
      "cell_type": "code",
      "source": [
        "num = int(input())\n",
        "if num > 0 and num <10:\n",
        "  c = num**5%50+20-6\n",
        "  print(c)\n",
        "  if c > 15:\n",
        "    print(\"BLACK\")\n",
        "  else:\n",
        "    print(\"BLUE\")\n",
        "else:\n",
        "  print(\"INVALID INPUT\")"
      ],
      "metadata": {
        "colab": {
          "base_uri": "https://localhost:8080/"
        },
        "id": "6lVhwJGKb_d9",
        "outputId": "74ee498f-f8cc-44b9-d583-c86a85a0a3c5"
      },
      "execution_count": 36,
      "outputs": [
        {
          "output_type": "stream",
          "name": "stdout",
          "text": [
            "8\n",
            "32\n",
            "BLACK\n"
          ]
        }
      ]
    },
    {
      "cell_type": "code",
      "source": [
        "num = int(input())\n",
        "\n",
        "if not (num>0 and num<=9):\n",
        "    print(\"INVALID INPUT\")\n",
        "else:\n",
        "    res_exp = num**5%50+20-6\n",
        "    if res_exp>15:\n",
        "        print(\"BLACK\")\n",
        "    else:\n",
        "        print(\"BLUE\")"
      ],
      "metadata": {
        "colab": {
          "base_uri": "https://localhost:8080/"
        },
        "id": "fgWPGWpBb_ay",
        "outputId": "2cebedeb-bd80-4110-e7d4-b5fd33e3fc87"
      },
      "execution_count": 37,
      "outputs": [
        {
          "output_type": "stream",
          "name": "stdout",
          "text": [
            "8\n",
            "BLACK\n"
          ]
        }
      ]
    },
    {
      "cell_type": "code",
      "source": [
        "print(\"\"\"Question 4: Ask the user, what language they like If they are saying \"python\", say good choice else say you need to think again\"\"\")"
      ],
      "metadata": {
        "colab": {
          "base_uri": "https://localhost:8080/"
        },
        "id": "u9sflCdQb_Yv",
        "outputId": "c0a84ee0-1ecf-4681-ad5b-bfccf603880d"
      },
      "execution_count": 38,
      "outputs": [
        {
          "output_type": "stream",
          "name": "stdout",
          "text": [
            "Question 4: Ask the user, what language they like If they are saying \"python\", say good choice else say you need to think again\n"
          ]
        }
      ]
    },
    {
      "cell_type": "code",
      "source": [
        "lang = input()\n",
        "\n",
        "if lang ==\"python\":\n",
        "    print(\"good choice\")\n",
        "else:\n",
        "    print('you need to think again')"
      ],
      "metadata": {
        "colab": {
          "base_uri": "https://localhost:8080/"
        },
        "id": "dLIf_nZDb_Vc",
        "outputId": "79831dd7-8fa9-4304-94a5-45b9682f8605"
      },
      "execution_count": 39,
      "outputs": [
        {
          "output_type": "stream",
          "name": "stdout",
          "text": [
            "python\n",
            "good choice\n"
          ]
        }
      ]
    },
    {
      "cell_type": "code",
      "source": [
        "# UPPER to LOWER and LOWER to UPPER\n",
        "\"tHiS iS my STR\".lower()\n",
        "\"tHiS iS my STR\".upper()"
      ],
      "metadata": {
        "colab": {
          "base_uri": "https://localhost:8080/",
          "height": 35
        },
        "id": "az0wlyG3b_Tk",
        "outputId": "9bf853b9-904a-4291-f486-fbbbf0dc9403"
      },
      "execution_count": 40,
      "outputs": [
        {
          "output_type": "execute_result",
          "data": {
            "text/plain": [
              "'THIS IS MY STR'"
            ],
            "application/vnd.google.colaboratory.intrinsic+json": {
              "type": "string"
            }
          },
          "metadata": {},
          "execution_count": 40
        }
      ]
    },
    {
      "cell_type": "code",
      "source": [
        "lang = input()\n",
        "\n",
        "if lang.upper() ==\"PYTHON\":\n",
        "    print(\"good choice\")\n",
        "else:\n",
        "    print('you need to think again')"
      ],
      "metadata": {
        "colab": {
          "base_uri": "https://localhost:8080/"
        },
        "id": "nivo-xxCb_RC",
        "outputId": "545dfb48-d8f9-43b6-bbad-44c54d005a47"
      },
      "execution_count": 42,
      "outputs": [
        {
          "output_type": "stream",
          "name": "stdout",
          "text": [
            "python\n",
            "good choice\n"
          ]
        }
      ]
    },
    {
      "cell_type": "code",
      "source": [
        "lang = input()\n",
        "\n",
        "if lang.lower() ==\"python\":\n",
        "    print(\"good choice\")\n",
        "else:\n",
        "    print('you need to think again')"
      ],
      "metadata": {
        "colab": {
          "base_uri": "https://localhost:8080/"
        },
        "id": "IsLNXSjPb_O8",
        "outputId": "941a7b9a-17f5-451e-fff4-3264d2f3f167"
      },
      "execution_count": 43,
      "outputs": [
        {
          "output_type": "stream",
          "name": "stdout",
          "text": [
            "PYTHON\n",
            "good choice\n"
          ]
        }
      ]
    },
    {
      "cell_type": "code",
      "source": [
        "print(\"\"\"Question 5:FIZZBUZZ 1. ask the user for an integer 2. if it is divisible by 3--> say FIZZ 3. if it is divisible by 5--> say BUZZ\n",
        "3. if it is divisible by 3 as well as 5--> say FIZZBUZZ If not divisible by any of the above, do nothing \"\"\")\n",
        "\n",
        "A = int(input())\n",
        "if A%3 == 0:\n",
        "  print(\"FIZZ\")\n",
        "elif A%5 == 0:\n",
        "  print(\"BUZZ\")\n",
        "elif A%3 == 0 and A%5 == 0:\n",
        "  print(\"FIZZBUZZ\")"
      ],
      "metadata": {
        "colab": {
          "base_uri": "https://localhost:8080/"
        },
        "id": "3ssW_kOBb_MB",
        "outputId": "738f3ee2-2f0a-4843-e12a-02d51aaaf479"
      },
      "execution_count": 46,
      "outputs": [
        {
          "output_type": "stream",
          "name": "stdout",
          "text": [
            "Question 5:FIZZBUZZ 1. ask the user for an integer 2. if it is divisible by 3--> say FIZZ 3. if it is divisible by 5--> say BUZZ\n",
            "3. if it is divisible by 3 as well as 5--> say FIZZBUZZ If not divisible by any of the above, do nothing \n",
            "5\n",
            "BUZZ\n"
          ]
        }
      ]
    },
    {
      "cell_type": "code",
      "source": [
        "n = int(input())\n",
        "\n",
        "if n%3==0:\n",
        "    print('FIZZ')\n",
        "elif n%5==0:\n",
        "    print('BUZZ')\n",
        "elif n%15==0:\n",
        "    print('FIZZBUZZ')"
      ],
      "metadata": {
        "colab": {
          "base_uri": "https://localhost:8080/"
        },
        "id": "Jzq0DsBSb_KT",
        "outputId": "51b7cb6c-3202-41fe-a931-a0f8216d81fb"
      },
      "execution_count": 47,
      "outputs": [
        {
          "name": "stdout",
          "output_type": "stream",
          "text": [
            "7\n"
          ]
        }
      ]
    },
    {
      "cell_type": "code",
      "source": [
        "# the most stringent condition goes first\n",
        "\n",
        "n = int(input())\n",
        "\n",
        "if n%15==0:\n",
        "    print('FIZZBUZZ')\n",
        "elif n%5==0:\n",
        "    print('BUZZ')\n",
        "elif n%3==0:\n",
        "    print('FIZZ')"
      ],
      "metadata": {
        "colab": {
          "base_uri": "https://localhost:8080/"
        },
        "id": "vp5KKxK9b_IM",
        "outputId": "2abc1eab-1f26-49be-9743-6b2eb13869a0"
      },
      "execution_count": 48,
      "outputs": [
        {
          "output_type": "stream",
          "name": "stdout",
          "text": [
            "30\n",
            "FIZZBUZZ\n"
          ]
        }
      ]
    },
    {
      "cell_type": "code",
      "source": [
        "print('''\n",
        "Question 6 -\n",
        "What will be the output of the following?\n",
        "\n",
        "a = 50\n",
        "if a > 40:\n",
        "    print(\"A\")\n",
        "if a > 30:\n",
        "    print(\"B\")\n",
        "if a > 20:\n",
        "    print(\"C\")\n",
        "''')"
      ],
      "metadata": {
        "id": "I7tH2pLLb_FO"
      },
      "execution_count": 48,
      "outputs": []
    },
    {
      "cell_type": "code",
      "source": [
        "a = 50\n",
        "if a > 40:\n",
        "    print(\"A\")\n",
        "if a > 30:\n",
        "    print(\"B\")\n",
        "if a > 20:\n",
        "    print(\"C\")"
      ],
      "metadata": {
        "colab": {
          "base_uri": "https://localhost:8080/"
        },
        "id": "g3shjhNPb_B5",
        "outputId": "a2d41ddf-29f8-4bd8-f269-f055341cb989"
      },
      "execution_count": 49,
      "outputs": [
        {
          "output_type": "stream",
          "name": "stdout",
          "text": [
            "A\n",
            "B\n",
            "C\n"
          ]
        }
      ]
    },
    {
      "cell_type": "code",
      "source": [],
      "metadata": {
        "id": "ie1zp8-Mb_AW"
      },
      "execution_count": null,
      "outputs": []
    },
    {
      "cell_type": "code",
      "source": [],
      "metadata": {
        "id": "YSi7YYGnb-9Y"
      },
      "execution_count": null,
      "outputs": []
    },
    {
      "cell_type": "code",
      "source": [],
      "metadata": {
        "id": "jcQiBwNBb-7h"
      },
      "execution_count": null,
      "outputs": []
    }
  ]
}