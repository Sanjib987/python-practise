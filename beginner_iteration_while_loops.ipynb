{
  "nbformat": 4,
  "nbformat_minor": 0,
  "metadata": {
    "colab": {
      "provenance": [],
      "authorship_tag": "ABX9TyOA08yF0AaH/Dne28bOmFKz",
      "include_colab_link": true
    },
    "kernelspec": {
      "name": "python3",
      "display_name": "Python 3"
    },
    "language_info": {
      "name": "python"
    }
  },
  "cells": [
    {
      "cell_type": "markdown",
      "metadata": {
        "id": "view-in-github",
        "colab_type": "text"
      },
      "source": [
        "<a href=\"https://colab.research.google.com/github/Sanjib987/python-practise/blob/main/beginner_iteration_while_loops.ipynb\" target=\"_parent\"><img src=\"https://colab.research.google.com/assets/colab-badge.svg\" alt=\"Open In Colab\"/></a>"
      ]
    },
    {
      "cell_type": "code",
      "execution_count": 1,
      "metadata": {
        "colab": {
          "base_uri": "https://localhost:8080/"
        },
        "id": "C3Ng9HuCpm9D",
        "outputId": "a50cce15-a23e-44ed-ba8f-5a5c92ea598c"
      },
      "outputs": [
        {
          "output_type": "stream",
          "name": "stdout",
          "text": [
            "1\n",
            "2\n",
            "3\n",
            "4\n",
            "5\n",
            "After the loop is done running, num was 6\n"
          ]
        }
      ],
      "source": [
        "# shouting a number\n",
        "# shout the num as long as it is <= 5\n",
        "\n",
        "num=1\n",
        "\n",
        "while num<=5:\n",
        "    print(num)\n",
        "    num = num + 1\n",
        "\n",
        "\n",
        "print(\"After the loop is done running, num was\", num)\n",
        "# as long as the <condition> is True\n",
        "# <some python code>\n",
        "# will keep on running\n",
        "while <condition>:\n",
        "    # some\n",
        "    # python\n",
        "    # code"
      ]
    },
    {
      "cell_type": "code",
      "source": [
        "# shouting a number\n",
        "# shout the num as long as it is <= 5\n",
        "\n",
        "num=1 # starting value\n",
        "\n",
        "while num<=5: # condition\n",
        "    print(num)\n",
        "    num = num + 1 # increment/ change in the conition\n",
        "\n",
        "\n",
        "print(\"After the loop is done running, num was\", num)"
      ],
      "metadata": {
        "colab": {
          "base_uri": "https://localhost:8080/"
        },
        "id": "KaCJ4t1jrdHV",
        "outputId": "7ef70ed8-6900-484b-9208-c4a869cc82fd"
      },
      "execution_count": 2,
      "outputs": [
        {
          "output_type": "stream",
          "name": "stdout",
          "text": [
            "1\n",
            "2\n",
            "3\n",
            "4\n",
            "5\n",
            "After the loop is done running, num was 6\n"
          ]
        }
      ]
    },
    {
      "cell_type": "code",
      "source": [
        "num=1 # starting value\n",
        "\n",
        "while num<=5: # condition\n",
        "    print(num)\n",
        "    num = num + 1 # increment/ change in the conition"
      ],
      "metadata": {
        "colab": {
          "base_uri": "https://localhost:8080/"
        },
        "id": "8i-W5Sygs8g5",
        "outputId": "dae91a96-9cf6-4d7f-e86a-36e47fa71a20"
      },
      "execution_count": 3,
      "outputs": [
        {
          "output_type": "stream",
          "name": "stdout",
          "text": [
            "1\n",
            "2\n",
            "3\n",
            "4\n",
            "5\n"
          ]
        }
      ]
    },
    {
      "cell_type": "code",
      "source": [
        "num=2 # starting value\n",
        "\n",
        "while num<=5: # condition\n",
        "    print(num)\n",
        "    num = num + 1 # increment/ change in the conition"
      ],
      "metadata": {
        "colab": {
          "base_uri": "https://localhost:8080/"
        },
        "id": "gk90fi3CtBmv",
        "outputId": "fa6e1bff-71a7-4f06-b6be-855d84f195a7"
      },
      "execution_count": 4,
      "outputs": [
        {
          "output_type": "stream",
          "name": "stdout",
          "text": [
            "2\n",
            "3\n",
            "4\n",
            "5\n"
          ]
        }
      ]
    },
    {
      "cell_type": "code",
      "source": [
        "num=2 # starting value\n",
        "\n",
        "while num<=4: # condition\n",
        "    print(num)\n",
        "    num = num + 1 # increment/ change in the conition"
      ],
      "metadata": {
        "colab": {
          "base_uri": "https://localhost:8080/"
        },
        "id": "EVXt4KBotEp6",
        "outputId": "c56146f7-ca8b-48f5-f209-3b4195ebc9ca"
      },
      "execution_count": 5,
      "outputs": [
        {
          "output_type": "stream",
          "name": "stdout",
          "text": [
            "2\n",
            "3\n",
            "4\n"
          ]
        }
      ]
    },
    {
      "cell_type": "code",
      "source": [
        "num=2 # starting value\n",
        "\n",
        "while num<=4: # condition\n",
        "    print(num)\n",
        "    num = num + 2 # increment/ change in the conition"
      ],
      "metadata": {
        "colab": {
          "base_uri": "https://localhost:8080/"
        },
        "id": "zKloJeZvtGv7",
        "outputId": "a5716221-a950-474b-ec52-6cf5d5397d5b"
      },
      "execution_count": 6,
      "outputs": [
        {
          "output_type": "stream",
          "name": "stdout",
          "text": [
            "2\n",
            "4\n"
          ]
        }
      ]
    },
    {
      "cell_type": "code",
      "source": [
        "print('''\n",
        "Question 1 -\n",
        "Take an integer input from the user and print alternate numbers from from 1 to input.\n",
        "Input will be a positive number > 1.\n",
        "\n",
        "INPUT - 7\n",
        "OUTPUT - 1 3 5 7\n",
        "\n",
        "INPUT - 4\n",
        "OUTPUT - 1 3\n",
        "''')"
      ],
      "metadata": {
        "colab": {
          "base_uri": "https://localhost:8080/"
        },
        "id": "dmZ22WPwtGfJ",
        "outputId": "123f5838-60c5-4569-b1ac-403941944e0c"
      },
      "execution_count": 12,
      "outputs": [
        {
          "output_type": "stream",
          "name": "stdout",
          "text": [
            "\n",
            "Question 1 -\n",
            "Take an integer input from the user and print alternate numbers from from 1 to input.\n",
            "Input will be a positive number > 1.\n",
            "\n",
            "INPUT - 7\n",
            "OUTPUT - 1 3 5 7\n",
            "\n",
            "INPUT - 4\n",
            "OUTPUT - 1 3\n",
            "\n"
          ]
        }
      ]
    },
    {
      "cell_type": "code",
      "source": [
        "A = int(input())\n",
        "K = 1\n",
        "while K<=A:\n",
        "  print(K,end=\" \")\n",
        "  K = K+2"
      ],
      "metadata": {
        "colab": {
          "base_uri": "https://localhost:8080/"
        },
        "id": "HmCKvpnItGck",
        "outputId": "ca41844f-5941-4c8e-f360-bc10d44459bf"
      },
      "execution_count": 13,
      "outputs": [
        {
          "output_type": "stream",
          "name": "stdout",
          "text": [
            "7\n",
            "1 3 5 7 "
          ]
        }
      ]
    },
    {
      "cell_type": "code",
      "source": [
        "print('''\n",
        "Question 1.1 -\n",
        "Take an input from the user and print alternate numbers from from 1 to input.\n",
        "If number is >= 1 -> Print as required.\n",
        "Else print \"Number is smaller than 1!\"\n",
        "\n",
        "INPUT - 7\n",
        "OUTPUT - 1 3 5 7\n",
        "\n",
        "INPUT - -5\n",
        "OUTPUT - Number is smaller than 1!\n",
        "''')"
      ],
      "metadata": {
        "colab": {
          "base_uri": "https://localhost:8080/"
        },
        "id": "9_G2ufCGtGBX",
        "outputId": "331ce9b1-7a16-4907-d7fb-940ab2e1ee55"
      },
      "execution_count": 14,
      "outputs": [
        {
          "output_type": "stream",
          "name": "stdout",
          "text": [
            "\n",
            "Question 1.1 -\n",
            "Take an input from the user and print alternate numbers from from 1 to input.\n",
            "If number is >= 1 -> Print as required.\n",
            "Else print \"Number is smaller than 1!\"\n",
            "\n",
            "INPUT - 7\n",
            "OUTPUT - 1 3 5 7\n",
            "\n",
            "INPUT - -5\n",
            "OUTPUT - Number is smaller than 1!\n",
            "\n"
          ]
        }
      ]
    },
    {
      "cell_type": "code",
      "source": [
        "A = int(input())\n",
        "if A>=1:\n",
        "  K = 1\n",
        "  while(K<=A):\n",
        "    print(K)\n",
        "    K+=2\n",
        "else:\n",
        "  print(\"Number is smaller than 1\")"
      ],
      "metadata": {
        "colab": {
          "base_uri": "https://localhost:8080/"
        },
        "id": "JeeVbcvswbxS",
        "outputId": "55cb4640-abb6-4f67-a6e9-70046506369e"
      },
      "execution_count": 17,
      "outputs": [
        {
          "output_type": "stream",
          "name": "stdout",
          "text": [
            "-5\n",
            "Number is smaller than 1\n"
          ]
        }
      ]
    },
    {
      "cell_type": "code",
      "source": [
        "print('''\n",
        "Question 2 -\n",
        "Take two integer inputs from user for start and end integer values.\n",
        "Print every third number starting at start till end. (BOTH START AND END TO BE INCLUDED.)\n",
        "\n",
        "Input :\n",
        "2\n",
        "30\n",
        "\n",
        "2 5 8 11 14 17 20 23 26 29\n",
        "''')"
      ],
      "metadata": {
        "id": "E2K7SCMUyDF7"
      },
      "execution_count": 17,
      "outputs": []
    },
    {
      "cell_type": "code",
      "source": [
        "A = int(input())\n",
        "B = int(input())\n",
        "while(A<=B):\n",
        "  print(A,end=\" \")\n",
        "  A+=3"
      ],
      "metadata": {
        "colab": {
          "base_uri": "https://localhost:8080/"
        },
        "id": "N5wR0Ydcy6mr",
        "outputId": "cc43ffc9-f21c-4067-abc9-89259fbb3256"
      },
      "execution_count": 22,
      "outputs": [
        {
          "output_type": "stream",
          "name": "stdout",
          "text": [
            "2\n",
            "30\n",
            "2 5 8 11 14 17 20 23 26 29 "
          ]
        }
      ]
    },
    {
      "cell_type": "code",
      "source": [
        "print('''\n",
        "Question 3 -\n",
        "Take an input from user for start and end values.\n",
        "Print all even numbers between them. (start and end included)\n",
        "\n",
        "INPUT -\n",
        "3\n",
        "7\n",
        "\n",
        "OUTPUT - 4 6\n",
        "''')"
      ],
      "metadata": {
        "colab": {
          "base_uri": "https://localhost:8080/"
        },
        "id": "1kGC2Ptvy7R-",
        "outputId": "31ed2d7d-e641-418e-a49d-9d02038ab2ee"
      },
      "execution_count": 26,
      "outputs": [
        {
          "output_type": "stream",
          "name": "stdout",
          "text": [
            "\n",
            "Question 3 -\n",
            "Take an input from user for start and end values.\n",
            "Print all even numbers between them. (start and end included)\n",
            "\n",
            "INPUT -\n",
            "3\n",
            "7\n",
            "\n",
            "OUTPUT - 4 6\n",
            "\n"
          ]
        }
      ]
    },
    {
      "cell_type": "code",
      "source": [],
      "metadata": {
        "id": "bs9xGvWm577p"
      },
      "execution_count": null,
      "outputs": []
    },
    {
      "cell_type": "code",
      "source": [
        "start = int(input())\n",
        "end = int(input())\n",
        "\n",
        "if start%2==0:\n",
        "  start=start\n",
        "else:\n",
        "  start=start+1\n",
        "\n",
        "loop_count = 0\n",
        "while start<=end:\n",
        "  print(start,end=\" \")\n",
        "  start+=2\n",
        "  loop_count+=1\n",
        "\n",
        "print(\"\\n\\n This loop ran for\",loop_count)"
      ],
      "metadata": {
        "colab": {
          "base_uri": "https://localhost:8080/"
        },
        "id": "3crN5koA5722",
        "outputId": "7d01a69b-d304-4028-afc8-7e587ae4f235"
      },
      "execution_count": 2,
      "outputs": [
        {
          "output_type": "stream",
          "name": "stdout",
          "text": [
            "5\n",
            "20\n",
            "6 8 10 12 14 16 18 20 \n",
            "\n",
            " This loop ran for 8\n"
          ]
        }
      ]
    },
    {
      "cell_type": "code",
      "source": [
        "print(\"\"\"Password is 567\n",
        "\n",
        "Write a loop in python which runs from 0 to 999 and prints the password after finding it.\n",
        "Print - \"Trying <number>\" for every number\n",
        "Print - \"Password found - number\" when password is found\"\"\")\n",
        "\n",
        "password = int(input())\n",
        "i = 0\n",
        "while i<=999:\n",
        "    print('trying', i)\n",
        "    if i==password:\n",
        "        print('Password found - ', i)\n",
        "        break # once this is executed, your python loop stop\n",
        "    i+=1"
      ],
      "metadata": {
        "colab": {
          "base_uri": "https://localhost:8080/"
        },
        "id": "6DXYPtSS5q-L",
        "outputId": "216f7787-4932-454f-acde-146d38ddb251"
      },
      "execution_count": 6,
      "outputs": [
        {
          "output_type": "stream",
          "name": "stdout",
          "text": [
            "Password is 567\n",
            "\n",
            "Write a loop in python which runs from 0 to 999 and prints the password after finding it.\n",
            "Print - \"Trying <number>\" for every number\n",
            "Print - \"Password found - number\" when password is found\n",
            "2\n",
            "trying 0\n",
            "trying 1\n",
            "trying 2\n",
            "Password found -  2\n"
          ]
        }
      ]
    },
    {
      "cell_type": "code",
      "source": [
        "print(\"\"\"Take a number input from user.\n",
        "Print its multiplication table till 10th multiple.\n",
        "INPUT - 7\n",
        "OUTPUT - 7 14 21 28 35 42 49 56 63 70\"\"\")\n",
        "\n",
        "table_of = int(input())\n",
        "count = 1\n",
        "while(count<=10):\n",
        "  print(table_of*count,end=\" \")\n",
        "  count+=1"
      ],
      "metadata": {
        "colab": {
          "base_uri": "https://localhost:8080/"
        },
        "id": "CYOvXS_J84MI",
        "outputId": "c2f7981c-3c65-40a9-a19d-7212f546a250"
      },
      "execution_count": 10,
      "outputs": [
        {
          "output_type": "stream",
          "name": "stdout",
          "text": [
            "Take a number input from user.\n",
            "Print its multiplication table till 10th multiple.\n",
            "INPUT - 7\n",
            "OUTPUT - 7 14 21 28 35 42 49 56 63 70\n",
            "7\n",
            "7 14 21 28 35 42 49 56 63 70 "
          ]
        }
      ]
    },
    {
      "cell_type": "code",
      "source": [
        "print(\"\"\"1. Take an integer input from user. This is the number of test cases. (count)\n",
        "2. Take int for each count from the user.\n",
        "3. Print multiplication table of that integer.\n",
        "INPUT - 3\n",
        "OUTPUT -\n",
        "Please input number 1 - 2\n",
        "Multiplication table - 2 4 6 8 10 12 14 16 18 20\n",
        "Plese input number 2 - 1\n",
        "Multiplication table - 1 2 3 4 5 6 7 8 9 10\n",
        "Please input number 3 - 5\n",
        "Multiplication table - 5 10 15 20 25 30 35 40 45 50\"\"\")\n",
        "print(\"\"\"\n",
        "table_of = int(input())\n",
        "i = 1\n",
        "while i<=10:\n",
        "    print(table_of*i, end=\" \")\n",
        "    i+=1\"\"\")"
      ],
      "metadata": {
        "colab": {
          "base_uri": "https://localhost:8080/"
        },
        "id": "eK9uVRmcCQxo",
        "outputId": "6fe1d601-1254-4e21-ec0d-7001f594274e"
      },
      "execution_count": 11,
      "outputs": [
        {
          "output_type": "stream",
          "name": "stdout",
          "text": [
            "1. Take an integer input from user. This is the number of test cases. (count)\n",
            "2. Take int for each count from the user.\n",
            "3. Print multiplication table of that integer.\n",
            "INPUT - 3\n",
            "OUTPUT -\n",
            "Please input number 1 - 2\n",
            "Multiplication table - 2 4 6 8 10 12 14 16 18 20\n",
            "Plese input number 2 - 1\n",
            "Multiplication table - 1 2 3 4 5 6 7 8 9 10\n",
            "Please input number 3 - 5\n",
            "Multiplication table - 5 10 15 20 25 30 35 40 45 50\n",
            "\n",
            "table_of = int(input())\n",
            "i = 1\n",
            "while i<=10:\n",
            "    print(table_of*i, end=\" \")\n",
            "    i+=1\n"
          ]
        }
      ]
    },
    {
      "cell_type": "code",
      "source": [
        "total_test_cases = int(input('How many test cases you want to run: '))\n",
        "test_case_count = 1\n",
        "\n",
        "while test_case_count<=total_test_cases:\n",
        "    # do the table\n",
        "    # code for the table from the last question\n",
        "    table_of = int(input())\n",
        "\n",
        "    i = 1\n",
        "    while i<=10:\n",
        "        print(table_of*i, end=\" \")\n",
        "        i+=1\n",
        "\n",
        "    ####################\n",
        "    print('\\n\\n\\n')\n",
        "    test_case_count += 1"
      ],
      "metadata": {
        "colab": {
          "base_uri": "https://localhost:8080/"
        },
        "id": "JruxZCjACQr7",
        "outputId": "9aca862e-a47e-4785-baa4-3ac7da1fb2fa"
      },
      "execution_count": 19,
      "outputs": [
        {
          "output_type": "stream",
          "name": "stdout",
          "text": [
            "How many test cases you want to run: 3\n",
            "2\n",
            "2 4 6 8 10 12 14 16 18 20 \n",
            "\n",
            "\n",
            "\n",
            "4\n",
            "4 8 12 16 20 24 28 32 36 40 \n",
            "\n",
            "\n",
            "\n",
            "6\n",
            "6 12 18 24 30 36 42 48 54 60 \n",
            "\n",
            "\n",
            "\n"
          ]
        }
      ]
    },
    {
      "cell_type": "code",
      "source": [
        "# factors of a number\n",
        "num = int(input())\n",
        "factor = 1\n",
        "while factor<=num:\n",
        "    if num%factor==0:\n",
        "        print(factor, end=\" \")\n",
        "    factor+=1"
      ],
      "metadata": {
        "colab": {
          "base_uri": "https://localhost:8080/"
        },
        "id": "GQh6lRhECQp6",
        "outputId": "b4ed2f3e-cb72-4953-f4cb-c3436ca67ddd"
      },
      "execution_count": 20,
      "outputs": [
        {
          "output_type": "stream",
          "name": "stdout",
          "text": [
            "9\n",
            "1 3 9 "
          ]
        }
      ]
    },
    {
      "cell_type": "code",
      "source": [],
      "metadata": {
        "id": "-B-uFGuKOxMs"
      },
      "execution_count": null,
      "outputs": []
    }
  ]
}