{
  "nbformat": 4,
  "nbformat_minor": 0,
  "metadata": {
    "colab": {
      "provenance": [],
      "authorship_tag": "ABX9TyMhYZ6AGbQ5cVuBag+j6pEt",
      "include_colab_link": true
    },
    "kernelspec": {
      "name": "python3",
      "display_name": "Python 3"
    },
    "language_info": {
      "name": "python"
    }
  },
  "cells": [
    {
      "cell_type": "markdown",
      "metadata": {
        "id": "view-in-github",
        "colab_type": "text"
      },
      "source": [
        "<a href=\"https://colab.research.google.com/github/Sanjib987/python-practise/blob/main/Assignment2.ipynb\" target=\"_parent\"><img src=\"https://colab.research.google.com/assets/colab-badge.svg\" alt=\"Open In Colab\"/></a>"
      ]
    },
    {
      "cell_type": "code",
      "execution_count": 2,
      "metadata": {
        "colab": {
          "base_uri": "https://localhost:8080/"
        },
        "id": "IybEuCbpe4_H",
        "outputId": "018c1f9e-cdb6-478c-b148-82d36795bef2"
      },
      "outputs": [
        {
          "output_type": "stream",
          "name": "stdout",
          "text": [
            "Sanjib\n",
            "Hello Sanjib\n"
          ]
        }
      ],
      "source": [
        "# Problem Description\n",
        "# Given a name A as input. Print \"Hello A\", where A is the name in input.\n",
        "A = input()\n",
        "print('Hello',A)"
      ]
    },
    {
      "cell_type": "code",
      "source": [
        "# Your friend Rahul plans to visit exotic countries all around the world. Sadly, Rahul's math skills aren't good enough. Given the amount of money Rahul has before the currency exchange and the amount of money that is spent from his savings, print the amount of money that remains in his savings.\n",
        "N = int(input())\n",
        "M = int(input())\n",
        "print(N-M)"
      ],
      "metadata": {
        "colab": {
          "base_uri": "https://localhost:8080/"
        },
        "id": "rhrV88WEfdH9",
        "outputId": "b2f5f038-8ec5-45d0-ffc1-398b8224e258"
      },
      "execution_count": 3,
      "outputs": [
        {
          "output_type": "stream",
          "name": "stdout",
          "text": [
            "100\n",
            "50\n",
            "50\n"
          ]
        }
      ]
    },
    {
      "cell_type": "code",
      "source": [
        "# Print the first five letters of the English alphabet i.e. A, B, C, D and E.\n",
        "print('A', 'B', 'C', 'D', 'E', sep ='\\n')"
      ],
      "metadata": {
        "colab": {
          "base_uri": "https://localhost:8080/"
        },
        "id": "trVcDAf6f5Oh",
        "outputId": "4a39f5c3-61f6-49e4-c10e-ad820376032a"
      },
      "execution_count": 4,
      "outputs": [
        {
          "output_type": "stream",
          "name": "stdout",
          "text": [
            "A\n",
            "B\n",
            "C\n",
            "D\n",
            "E\n"
          ]
        }
      ]
    },
    {
      "cell_type": "code",
      "source": [
        "# Given two names A and B as input, print \"A says Hi to B\" (Without quotations), where A and B are the names in input.\n",
        "A = input()\n",
        "B = input()\n",
        "print(A ,'says Hi to' ,B)"
      ],
      "metadata": {
        "colab": {
          "base_uri": "https://localhost:8080/"
        },
        "id": "hJaWrIMAgVjR",
        "outputId": "0c32f0f6-5b1d-454a-8d35-5609582220cd"
      },
      "execution_count": 5,
      "outputs": [
        {
          "output_type": "stream",
          "name": "stdout",
          "text": [
            "Sanjib\n",
            "Jun\n",
            "Sanjib says Hi to Jun\n"
          ]
        }
      ]
    },
    {
      "cell_type": "code",
      "source": [
        "# Take two strings \"str1\" and \"str2\" as input. Then your task is to concatenate the two strings and print the resultant concatenated string.\n",
        "str1 = input()\n",
        "str2 = input()\n",
        "print(str1+str2)"
      ],
      "metadata": {
        "colab": {
          "base_uri": "https://localhost:8080/"
        },
        "id": "3Koet0ItgVg0",
        "outputId": "a6890784-0759-4a60-f1bb-021c758c05ef"
      },
      "execution_count": 6,
      "outputs": [
        {
          "output_type": "stream",
          "name": "stdout",
          "text": [
            "Python\n",
            "Cobra\n",
            "PythonCobra\n"
          ]
        }
      ]
    },
    {
      "cell_type": "code",
      "source": [
        "# You're going to write some code to help you cook a gorgeous lasagna from your favorite cookbook. According to your cookbook, the Lasagna should be in the oven for 40 minutes. Given the time (in minutes), the lasagna has been in the oven, find how many more minutes the lasagna still needs to bake for.\n",
        "N = int(input())\n",
        "T = 40-N\n",
        "print(T)\n",
        "\n",
        "# You'll write some code to help you cook a gorgeous lasagna from your favorite cookbook. Now, you also want to add a few layers to the lasagna. Assume **each layer takes 2 minutes** to prepare. Given the number of layers you want to add to the lasagna, find how many minutes you would spend making them.\n",
        "N = int(input())\n",
        "E = N*2\n",
        "print(E)\n",
        "\n"
      ],
      "metadata": {
        "colab": {
          "base_uri": "https://localhost:8080/"
        },
        "id": "5DVPPWVDhUlZ",
        "outputId": "89213cc4-fe33-4856-e165-a862f5d15058"
      },
      "execution_count": 8,
      "outputs": [
        {
          "output_type": "stream",
          "name": "stdout",
          "text": [
            "20\n",
            "20\n",
            "30\n",
            "60\n"
          ]
        }
      ]
    },
    {
      "cell_type": "code",
      "source": [
        "# You wrote some code to help you cook a gorgeous lasagna from your favorite cookbook. Now, you want to find the total number of minutes you've been cooking for the sum of your preparation time and the time the lasagna has already spent baking in the oven. The preparation time of one layer is 2 minutes. Given the number of layers added to the lasagna and the number of minutes the lasagna has been baking in the oven, find the total elapsed cooking time (prep + bake) in minutes.\n",
        "# Read the number of layers and baking time\n",
        "N = int(input())\n",
        "M = int(input())\n",
        "\n",
        "# Calculate the preparation time for N layers\n",
        "prep_time = N * 2\n",
        "\n",
        "# Calculate the total elapsed cooking time (prep + bake)\n",
        "total_time = prep_time + M\n",
        "\n",
        "# Print the total elapsed cooking time\n",
        "print(total_time)\n"
      ],
      "metadata": {
        "colab": {
          "base_uri": "https://localhost:8080/"
        },
        "id": "bIoHOF3BhtfX",
        "outputId": "ab4b3231-6ecb-431c-fa13-e8dfee89d516"
      },
      "execution_count": 9,
      "outputs": [
        {
          "output_type": "stream",
          "name": "stdout",
          "text": [
            "100\n",
            "120\n",
            "320\n"
          ]
        }
      ]
    },
    {
      "cell_type": "code",
      "source": [
        "# Given the value of a single bill and the number of bills you received, print the total value of the bills. Note: The value of all the bills are same\n",
        "# Read the value of a single bill and the number of bills\n",
        "N = int(input())\n",
        "M = int(input())\n",
        "\n",
        "# Calculate the total value of the bills\n",
        "total_value = N * M\n",
        "\n",
        "# Print the total value of the bills\n",
        "print(total_value)\n"
      ],
      "metadata": {
        "colab": {
          "base_uri": "https://localhost:8080/"
        },
        "id": "et4SFU4TiPUQ",
        "outputId": "4e34cc47-f4cf-4b46-efc8-31cb149a3311"
      },
      "execution_count": 10,
      "outputs": [
        {
          "output_type": "stream",
          "name": "stdout",
          "text": [
            "50\n",
            "20\n",
            "1000\n"
          ]
        }
      ]
    },
    {
      "cell_type": "code",
      "source": [],
      "metadata": {
        "id": "WrWSwVKzior3"
      },
      "execution_count": 10,
      "outputs": []
    }
  ]
}