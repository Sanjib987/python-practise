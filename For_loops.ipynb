{
  "nbformat": 4,
  "nbformat_minor": 0,
  "metadata": {
    "colab": {
      "provenance": [],
      "authorship_tag": "ABX9TyMFC8c15JirGoEyPSqUBhBt",
      "include_colab_link": true
    },
    "kernelspec": {
      "name": "python3",
      "display_name": "Python 3"
    },
    "language_info": {
      "name": "python"
    }
  },
  "cells": [
    {
      "cell_type": "markdown",
      "metadata": {
        "id": "view-in-github",
        "colab_type": "text"
      },
      "source": [
        "<a href=\"https://colab.research.google.com/github/Sanjib987/python-practise/blob/main/For_loops.ipynb\" target=\"_parent\"><img src=\"https://colab.research.google.com/assets/colab-badge.svg\" alt=\"Open In Colab\"/></a>"
      ]
    },
    {
      "cell_type": "code",
      "execution_count": null,
      "metadata": {
        "id": "6iTFPsYJlzz8",
        "outputId": "319e83f2-fe63-4c2c-b3ab-3d9bd37ff98b",
        "colab": {
          "base_uri": "https://localhost:8080/"
        }
      },
      "outputs": [
        {
          "output_type": "stream",
          "name": "stdout",
          "text": [
            "1\n",
            "2\n",
            "3\n",
            "4\n",
            "5\n"
          ]
        }
      ],
      "source": [
        "# while\n",
        "meter = 1 # starting condition\n",
        "while meter<=5: # while <condition>\n",
        "    print(meter) # do something\n",
        "    meter = meter + 1 # increment"
      ]
    },
    {
      "cell_type": "code",
      "source": [
        "# while\n",
        "meter = 1 # starting condition\n",
        "while meter<=5: # while <condition>\n",
        "    print(meter) # do something\n",
        "    meter = meter + 1 # increment"
      ],
      "metadata": {
        "id": "0Cv2QN_0DIsP",
        "colab": {
          "base_uri": "https://localhost:8080/"
        },
        "outputId": "883116af-918d-42ac-a6ea-34ab795942ff"
      },
      "execution_count": 1,
      "outputs": [
        {
          "output_type": "stream",
          "name": "stdout",
          "text": [
            "1\n",
            "2\n",
            "3\n",
            "4\n",
            "5\n"
          ]
        }
      ]
    },
    {
      "cell_type": "code",
      "source": [
        "for num in range(2,5):\n",
        "    print(num)"
      ],
      "metadata": {
        "colab": {
          "base_uri": "https://localhost:8080/"
        },
        "id": "PMTAqV0w2s1d",
        "outputId": "62648917-3d26-4ee2-d792-d96b72106ede"
      },
      "execution_count": 2,
      "outputs": [
        {
          "output_type": "stream",
          "name": "stdout",
          "text": [
            "2\n",
            "3\n",
            "4\n"
          ]
        }
      ]
    },
    {
      "cell_type": "code",
      "source": [
        "for num in range(3,15,2):\n",
        "    print(num)"
      ],
      "metadata": {
        "colab": {
          "base_uri": "https://localhost:8080/"
        },
        "id": "3lwZkOLa2zTH",
        "outputId": "09548ea0-6512-4e0f-9a5b-c46da9337a5a"
      },
      "execution_count": 3,
      "outputs": [
        {
          "output_type": "stream",
          "name": "stdout",
          "text": [
            "3\n",
            "5\n",
            "7\n",
            "9\n",
            "11\n",
            "13\n"
          ]
        }
      ]
    },
    {
      "cell_type": "code",
      "source": [
        "for num in range(9,3):\n",
        "    print(num)"
      ],
      "metadata": {
        "id": "EYfaFvVC264H"
      },
      "execution_count": 4,
      "outputs": []
    },
    {
      "cell_type": "code",
      "source": [
        "for num in range(9,3,-1):\n",
        "    print(num)"
      ],
      "metadata": {
        "colab": {
          "base_uri": "https://localhost:8080/"
        },
        "id": "DEm1Ip8w261c",
        "outputId": "dac11b44-2f91-4d39-9047-a75766f52d80"
      },
      "execution_count": 5,
      "outputs": [
        {
          "output_type": "stream",
          "name": "stdout",
          "text": [
            "9\n",
            "8\n",
            "7\n",
            "6\n",
            "5\n",
            "4\n"
          ]
        }
      ]
    },
    {
      "cell_type": "code",
      "source": [
        "for num in range(9,3,-1): # start has to be an int\n",
        "    print(num)\n",
        "for num in range(9,3,-1): # end has to be an int\n",
        "    print(num)\n",
        "\n",
        "for num in range(9,3,-1): # step has to be a non 0 int\n",
        "    print(num)\n",
        "for i in range(-100,-90):\n",
        "    print(i)"
      ],
      "metadata": {
        "colab": {
          "base_uri": "https://localhost:8080/"
        },
        "id": "u8mePCdG26yx",
        "outputId": "d526f345-debe-458f-d091-4d60f0be0297"
      },
      "execution_count": 13,
      "outputs": [
        {
          "output_type": "stream",
          "name": "stdout",
          "text": [
            "9\n",
            "8\n",
            "7\n",
            "6\n",
            "5\n",
            "4\n",
            "9\n",
            "8\n",
            "7\n",
            "6\n",
            "5\n",
            "4\n",
            "9\n",
            "8\n",
            "7\n",
            "6\n",
            "5\n",
            "4\n",
            "-100\n",
            "-99\n",
            "-98\n",
            "-97\n",
            "-96\n",
            "-95\n",
            "-94\n",
            "-93\n",
            "-92\n",
            "-91\n"
          ]
        }
      ]
    },
    {
      "cell_type": "code",
      "source": [
        "''' Question 1 - Print all integers from 1 to N using for loop. (N to be included) Take N as input from the user.''' '''\n",
        "Input is 4 Output will be 1 2 3 4 '''\n",
        "\n",
        "N = int(input())\n",
        "for i in range(N): # >> 0,1,2,3,,,,N-1\n",
        "    print(i+1, end=\" \") # >> 1,2,3,4,,,,N\n",
        "\n",
        "N = int(input())\n",
        "for i in range(1,N+1): # >> 1,2,3,4,,,,N\n",
        "    print(i, end=\" \")"
      ],
      "metadata": {
        "colab": {
          "base_uri": "https://localhost:8080/"
        },
        "id": "oZebzZ1J26vN",
        "outputId": "3e84d522-5e87-427e-c083-3dca71463e4a"
      },
      "execution_count": 16,
      "outputs": [
        {
          "output_type": "stream",
          "name": "stdout",
          "text": [
            "8\n",
            "1 2 3 4 5 6 7 8 7\n",
            "1 2 3 4 5 6 7 "
          ]
        }
      ]
    },
    {
      "cell_type": "code",
      "source": [
        "# len\n",
        "print(len(range(5)))\n",
        "\n",
        "print(len(range(2,5)))\n",
        "\n",
        "print(len(range(5,2)))\n",
        "print(len(range(5,2, -1)))"
      ],
      "metadata": {
        "colab": {
          "base_uri": "https://localhost:8080/"
        },
        "id": "gbBLcxgN26tf",
        "outputId": "cc9728a0-8861-419c-a69d-9bb1551b11dd"
      },
      "execution_count": 20,
      "outputs": [
        {
          "output_type": "stream",
          "name": "stdout",
          "text": [
            "5\n",
            "3\n",
            "0\n",
            "3\n"
          ]
        }
      ]
    },
    {
      "cell_type": "code",
      "source": [
        "''' Question 2 - Take N as input from the user. Calculate the sum of all numbers from 1 to N (N is included). ONLY USE for LOOP AND range\n",
        "'''''' Input : 3 Output : 6 '''\n",
        "\n",
        "# 1 get the input\n",
        "N = int(input())\n",
        "# 2 start the total from 0\n",
        "total = 0\n",
        "# 3 loop over the range\n",
        "for i in range(1,N+1): # >> 1,2,3,4,,,,N\n",
        "    # print(i, end=\" \")\n",
        "    # 4 update the total as you loop over the range\n",
        "    total = total + i\n",
        "# 5 print the total\n",
        "print(total)"
      ],
      "metadata": {
        "colab": {
          "base_uri": "https://localhost:8080/"
        },
        "id": "oVU9Q08t26o-",
        "outputId": "7ffa6806-ae5a-4653-e776-a52800c041af"
      },
      "execution_count": 22,
      "outputs": [
        {
          "output_type": "stream",
          "name": "stdout",
          "text": [
            "5\n",
            "15\n"
          ]
        }
      ]
    },
    {
      "cell_type": "code",
      "source": [
        "'''\n",
        "Question 3 -\n",
        "FACTORIAL ->\n",
        "Take N an input from the user.\n",
        "Calculate the product of all numbers from 1 to N (N is included).\n",
        "'''\n",
        "'''\n",
        "1 > 1\n",
        "2 > 2\n",
        "3 > 6\n",
        "4 > 24\n",
        "'''\n",
        "\n",
        "# 1 get the input\n",
        "N = int(input())\n",
        "# 2 start the product from 1\n",
        "product = 1\n",
        "# 3 loop over the range\n",
        "for i in range(1,N+1): # >> 1,2,3,4,,,,N\n",
        "    # print(i, end=\" \")\n",
        "    # 4 update the product as you loop over the range\n",
        "    product = product * i\n",
        "# 5 print the product\n",
        "print(product)"
      ],
      "metadata": {
        "colab": {
          "base_uri": "https://localhost:8080/"
        },
        "id": "nPCrw0KD26jx",
        "outputId": "2c1928e8-ac91-4c34-d177-73519a70a531"
      },
      "execution_count": 23,
      "outputs": [
        {
          "output_type": "stream",
          "name": "stdout",
          "text": [
            "7\n",
            "5040\n"
          ]
        }
      ]
    },
    {
      "cell_type": "code",
      "source": [
        "'''\n",
        "Question 4 -\n",
        "Take N as input from the user.\n",
        "Calculate the product of all even numbers between 1 and N. Both included.\n",
        "'''\n",
        "N = int(input())\n",
        "# 2 start the product from 1\n",
        "product = 1\n",
        "# 3 loop over the range\n",
        "for i in range(2,N+1,2): # >> 1,2,3,4,,,,N\n",
        "    # print(i, end=\" \")\n",
        "    # 4 update the product as you loop over the range\n",
        "    product = product * i\n",
        "# 5 print the product\n",
        "print(product)"
      ],
      "metadata": {
        "colab": {
          "base_uri": "https://localhost:8080/"
        },
        "id": "z_0Fw7BV25OS",
        "outputId": "6976f603-9d8b-43a5-d7e5-3ff73fd23d9f"
      },
      "execution_count": 5,
      "outputs": [
        {
          "output_type": "stream",
          "name": "stdout",
          "text": [
            "10\n",
            "3840\n"
          ]
        }
      ]
    },
    {
      "cell_type": "code",
      "source": [
        "print(2*4*6*8*10)"
      ],
      "metadata": {
        "colab": {
          "base_uri": "https://localhost:8080/"
        },
        "id": "FwO6dD4525Mb",
        "outputId": "8a1eeeb1-301c-48a7-ab01-ca4e26a1a0a7"
      },
      "execution_count": 4,
      "outputs": [
        {
          "output_type": "stream",
          "name": "stdout",
          "text": [
            "3840\n"
          ]
        }
      ]
    },
    {
      "cell_type": "code",
      "source": [
        "'''\n",
        "Question 5 -\n",
        "Take start and end as input from the user.\n",
        "Calculate the product of all even numbers between start and end.\n",
        "Both included.\n",
        "\n",
        "GIVEN - Both start and end will be greater than 0.\n",
        "'''\n",
        "\n",
        "\n",
        "A = int(input())\n",
        "B = int(input())\n",
        "\n",
        "product = 1\n",
        "if A%2==0:\n",
        "  for i in range(A,B,2): # >> 1,2,3,4,,,,N\n",
        "    # print(i, end=\" \")\n",
        "    # 4 update the product as you loop over the range\n",
        "    product = product * i\n",
        "else:\n",
        "  for i in range(A+1,B,2): # >> 1,2,3,4,,,,N\n",
        "    # print(i, end=\" \")\n",
        "    # 4 update the product as you loop over the range\n",
        "    product = product * i\n",
        "# 5 print the product\n",
        "print(product)\n",
        "\n",
        "\n",
        "start = int(input())\n",
        "end = int(input())\n",
        "if start%2==0:\n",
        "    start=start\n",
        "else:\n",
        "    start=start+1\n",
        "product = 1\n",
        "for i in range(start, end+1,2):\n",
        "    product*=i\n",
        "print(product)"
      ],
      "metadata": {
        "colab": {
          "base_uri": "https://localhost:8080/"
        },
        "id": "tNvt7hAV220A",
        "outputId": "407352f8-a43a-4b8c-b439-5beae1ca14c0"
      },
      "execution_count": 9,
      "outputs": [
        {
          "output_type": "stream",
          "name": "stdout",
          "text": [
            "4\n",
            "10\n",
            "192\n"
          ]
        }
      ]
    },
    {
      "cell_type": "code",
      "source": [
        "print(4*6*8)"
      ],
      "metadata": {
        "colab": {
          "base_uri": "https://localhost:8080/"
        },
        "id": "_qQ_D2H6_oK4",
        "outputId": "fc82c72a-dbda-493b-8fa8-7cdaed5744a1"
      },
      "execution_count": 7,
      "outputs": [
        {
          "output_type": "stream",
          "name": "stdout",
          "text": [
            "192\n"
          ]
        }
      ]
    },
    {
      "cell_type": "code",
      "source": [
        "'''\n",
        "Question 6 -\n",
        "Print all the numbers from an input N to 1 in reverse order.\n",
        "N > 1 -> Given\n",
        "'''\n",
        "N = int(input())\n",
        "for i in range(N , 1-1, -1):\n",
        "    print(i, end=\" \")"
      ],
      "metadata": {
        "colab": {
          "base_uri": "https://localhost:8080/"
        },
        "id": "kwGykFG1_u2Q",
        "outputId": "08138cb2-9977-4b4b-e9fe-26f487069cda"
      },
      "execution_count": 14,
      "outputs": [
        {
          "output_type": "stream",
          "name": "stdout",
          "text": [
            "10\n",
            "10 9 8 7 6 5 4 3 2 1 "
          ]
        }
      ]
    },
    {
      "cell_type": "code",
      "source": [
        "# Home work\n",
        "print(\"\"\"```\n",
        "Question 7 -\n",
        "Print all the numbers from an input N to 1 in reverse order.\n",
        ">>   With for loop using range function but Without using a negative step/jump!\n",
        "N > 1 -> Given\n",
        "\n",
        "```\"\"\")"
      ],
      "metadata": {
        "colab": {
          "base_uri": "https://localhost:8080/"
        },
        "id": "z_B6fk93AH3T",
        "outputId": "584324bf-7be2-4011-d9aa-83d399891776"
      },
      "execution_count": 16,
      "outputs": [
        {
          "output_type": "stream",
          "name": "stdout",
          "text": [
            "```\n",
            "Question 7 -\n",
            "Print all the numbers from an input N to 1 in reverse order.\n",
            ">>   With for loop using range function but Without using a negative step/jump!\n",
            "N > 1 -> Given\n",
            "\n",
            "```\n"
          ]
        }
      ]
    },
    {
      "cell_type": "code",
      "source": [
        "n = int(input())\n",
        "\n",
        "for i in range(-n, 0):\n",
        "    print(-i, end=\" \")"
      ],
      "metadata": {
        "colab": {
          "base_uri": "https://localhost:8080/"
        },
        "id": "HdhOMkraBE0r",
        "outputId": "b7f0bbbc-2cf1-45db-8c8d-5beb2e2c428b"
      },
      "execution_count": 17,
      "outputs": [
        {
          "output_type": "stream",
          "name": "stdout",
          "text": [
            "9\n",
            "9 8 7 6 5 4 3 2 1 "
          ]
        }
      ]
    },
    {
      "cell_type": "code",
      "source": [
        "name = \"Cristiano Ronaldo\"\n",
        "print(name)\n",
        "print(len(name))\n",
        "for i in name:\n",
        "    print(i)"
      ],
      "metadata": {
        "colab": {
          "base_uri": "https://localhost:8080/"
        },
        "id": "RVpkQ77kBOc7",
        "outputId": "07d05b3a-8642-47b8-faae-f8d250367ccb"
      },
      "execution_count": 21,
      "outputs": [
        {
          "output_type": "stream",
          "name": "stdout",
          "text": [
            "Cristiano Ronaldo\n",
            "17\n",
            "C\n",
            "r\n",
            "i\n",
            "s\n",
            "t\n",
            "i\n",
            "a\n",
            "n\n",
            "o\n",
            " \n",
            "R\n",
            "o\n",
            "n\n",
            "a\n",
            "l\n",
            "d\n",
            "o\n"
          ]
        }
      ]
    },
    {
      "cell_type": "code",
      "source": [],
      "metadata": {
        "id": "Ut4gDBrnBe-d"
      },
      "execution_count": null,
      "outputs": []
    }
  ]
}