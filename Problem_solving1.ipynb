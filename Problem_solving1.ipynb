{
  "nbformat": 4,
  "nbformat_minor": 0,
  "metadata": {
    "colab": {
      "provenance": [],
      "authorship_tag": "ABX9TyONLsHc7bJkpdQMviumqosP",
      "include_colab_link": true
    },
    "kernelspec": {
      "name": "python3",
      "display_name": "Python 3"
    },
    "language_info": {
      "name": "python"
    }
  },
  "cells": [
    {
      "cell_type": "markdown",
      "metadata": {
        "id": "view-in-github",
        "colab_type": "text"
      },
      "source": [
        "<a href=\"https://colab.research.google.com/github/Sanjib987/python-practise/blob/main/Problem_solving1.ipynb\" target=\"_parent\"><img src=\"https://colab.research.google.com/assets/colab-badge.svg\" alt=\"Open In Colab\"/></a>"
      ]
    },
    {
      "cell_type": "code",
      "execution_count": 2,
      "metadata": {
        "colab": {
          "base_uri": "https://localhost:8080/"
        },
        "id": "Y9rhDJ430HdJ",
        "outputId": "3fd536e2-2107-4ff3-ba26-57f17f5015ad"
      },
      "outputs": [
        {
          "output_type": "stream",
          "name": "stdout",
          "text": [
            "anything inside quotes is a str\n",
            "this str is on a single line\n",
            "this str \n",
            " is on \n",
            " multiple lines\n",
            "this str\n",
            " is on\n",
            "  multiple lines\n"
          ]
        }
      ],
      "source": [
        "# recap\n",
        "print(\"anything inside quotes is a str\")\n",
        "print('this str is on a single line')\n",
        "print('this str \\n is on \\n multiple lines') # \\n>> new line\n",
        "print('''this str\n",
        " is on\n",
        "  multiple lines''')"
      ]
    },
    {
      "cell_type": "code",
      "source": [
        "# 5 data types ## str, int, float, bool, None\n",
        "print(int(5/2))\n",
        "print(int(-5/2))\n",
        "print(int(\"2\"))\n",
        "print(int(2.5))\n",
        "print(int(2.5))"
      ],
      "metadata": {
        "colab": {
          "base_uri": "https://localhost:8080/"
        },
        "id": "QzGUK6ZM0f_K",
        "outputId": "9c1db354-d78d-4107-c012-0733fdaac7e3"
      },
      "execution_count": 4,
      "outputs": [
        {
          "output_type": "stream",
          "name": "stdout",
          "text": [
            "2\n",
            "-2\n",
            "2\n",
            "2\n",
            "2\n"
          ]
        }
      ]
    },
    {
      "cell_type": "code",
      "source": [
        "print('''❓Print the correct python code that will print the following pattern.\n",
        "\n",
        "```\n",
        "**\n",
        "*****\n",
        "******\n",
        "''')\n",
        "\n",
        "#1\n",
        "print('''**\n",
        "*****\n",
        "******''')\n",
        "#2\n",
        "print('**\\n*****\\n******')\n",
        "#3\n",
        "print('*'*2)\n",
        "print('*'*5)\n",
        "print('*'*6)\n",
        "#4\n",
        "print('*'*2, '*'*5, '*'*6, sep='\\n')"
      ],
      "metadata": {
        "colab": {
          "base_uri": "https://localhost:8080/"
        },
        "id": "tSWdwKjS0f89",
        "outputId": "c870b83b-c347-43b6-f94a-2c057cb1237d"
      },
      "execution_count": 10,
      "outputs": [
        {
          "output_type": "stream",
          "name": "stdout",
          "text": [
            "❓Print the correct python code that will print the following pattern.\n",
            "\n",
            "```\n",
            "**\n",
            "*****\n",
            "******\n",
            "\n",
            "**\n",
            "*****\n",
            "******\n",
            "**\n",
            "*****\n",
            "******\n",
            "**\n",
            "*****\n",
            "******\n",
            "**\n",
            "*****\n",
            "******\n"
          ]
        }
      ]
    },
    {
      "cell_type": "code",
      "source": [
        "print('''❓Given two strings and you have to concatenate both of them with a $ symbol in between\n",
        "Input Format\n",
        "Two strings namely, str1 and str2\n",
        "Output Format\n",
        "str1 and str2 joined together\n",
        "Sample Input\n",
        "str1 = Hello\n",
        "str2 = World\n",
        "Sample Output\n",
        "Hello$World\n",
        "''')\n",
        "\n",
        "#Code\n",
        "A = input()\n",
        "B = input()\n",
        "C = A+\"$\"+B\n",
        "print(C)"
      ],
      "metadata": {
        "colab": {
          "base_uri": "https://localhost:8080/"
        },
        "id": "wqQK4egc0f5v",
        "outputId": "2db8249b-e214-419b-9212-2f014a3565d1"
      },
      "execution_count": 33,
      "outputs": [
        {
          "output_type": "stream",
          "name": "stdout",
          "text": [
            "❓Given two strings and you have to concatenate both of them with a $ symbol in between\n",
            "Input Format\n",
            "Two strings namely, str1 and str2\n",
            "Output Format\n",
            "str1 and str2 joined together\n",
            "Sample Input\n",
            "str1 = Hello\n",
            "str2 = World\n",
            "Sample Output\n",
            "Hello$World\n",
            "\n",
            "Hello\n",
            "World\n",
            "Hello$World\n"
          ]
        }
      ]
    },
    {
      "cell_type": "code",
      "source": [
        "print(A,'$',B,sep='')\n"
      ],
      "metadata": {
        "colab": {
          "base_uri": "https://localhost:8080/"
        },
        "id": "wbXG7BQh1rkk",
        "outputId": "b1114f21-6a54-4b84-b6da-96a34d38a7d4"
      },
      "execution_count": 35,
      "outputs": [
        {
          "output_type": "stream",
          "name": "stdout",
          "text": [
            "Hello$World\n"
          ]
        }
      ]
    },
    {
      "cell_type": "code",
      "source": [
        "print(A,B,sep='$')"
      ],
      "metadata": {
        "colab": {
          "base_uri": "https://localhost:8080/"
        },
        "id": "BCybOnFv1rhi",
        "outputId": "39e6baa3-1922-4cc6-e06f-6fa0815a182d"
      },
      "execution_count": 36,
      "outputs": [
        {
          "output_type": "stream",
          "name": "stdout",
          "text": [
            "Hello$World\n"
          ]
        }
      ]
    },
    {
      "cell_type": "code",
      "source": [
        "print('''\n",
        "❓ What is the output```\n",
        "print(type(int(float(input()))))```\n",
        "assume user enters `2.2`\n",
        "''')\n",
        "\n",
        "print(type(int(float(input()))))"
      ],
      "metadata": {
        "colab": {
          "base_uri": "https://localhost:8080/"
        },
        "id": "6S7Q9NXR1rf_",
        "outputId": "588edc12-2b89-48b9-ada8-32845e0a5bd4"
      },
      "execution_count": 38,
      "outputs": [
        {
          "output_type": "stream",
          "name": "stdout",
          "text": [
            "\n",
            "❓ What is the output```\n",
            "print(type(int(float(input()))))```\n",
            "assume user enters `2.2`\n",
            "\n",
            "5\n",
            "<class 'int'>\n"
          ]
        }
      ]
    },
    {
      "cell_type": "code",
      "source": [
        "print('''\n",
        "❓ What is the output\n",
        "```print(type(str(float(input()))))\n",
        "print(str(float(input())))\n",
        "```assume user enters 2''')\n",
        "\n",
        "print(type(str(float(input()))))\n",
        "print(str(float(input())))"
      ],
      "metadata": {
        "colab": {
          "base_uri": "https://localhost:8080/"
        },
        "id": "C76_c8ri0f4C",
        "outputId": "94c86cbe-45f0-4671-ec91-f5e0937354dc"
      },
      "execution_count": 39,
      "outputs": [
        {
          "output_type": "stream",
          "name": "stdout",
          "text": [
            "\n",
            "❓ What is the output\n",
            "```print(type(str(float(input()))))\n",
            "print(str(float(input())))\n",
            "```assume user enters 2\n",
            "2\n",
            "<class 'str'>\n",
            "2\n",
            "2.0\n"
          ]
        }
      ]
    },
    {
      "cell_type": "code",
      "source": [
        "print('''\n",
        "❓ What will be the output of the following python code\n",
        "```python\n",
        "print(bool(False - 1))\n",
        "print(bool(True - 3))\n",
        "print(True + 3)\n",
        "```\n",
        "\n",
        "```\n",
        "A)\n",
        "True\n",
        "True\n",
        "4\n",
        "```\n",
        "```\n",
        "B)\n",
        "True\n",
        "False\n",
        "3\n",
        "```\n",
        "```\n",
        "C)\n",
        "False\n",
        "False\n",
        "None\n",
        "```\n",
        "```\n",
        "D) Error\n",
        "```\n",
        "''')"
      ],
      "metadata": {
        "id": "jagffBlW4Z_z"
      },
      "execution_count": 37,
      "outputs": []
    },
    {
      "cell_type": "code",
      "source": [
        "print(bool(False - 1))\n",
        "print(bool(True - 3))\n",
        "print(True + 3)"
      ],
      "metadata": {
        "colab": {
          "base_uri": "https://localhost:8080/"
        },
        "id": "iVlMii4o4Z9V",
        "outputId": "96229daa-4986-40fa-e80d-8d39b9c99ed8"
      },
      "execution_count": 40,
      "outputs": [
        {
          "output_type": "stream",
          "name": "stdout",
          "text": [
            "True\n",
            "True\n",
            "4\n"
          ]
        }
      ]
    },
    {
      "cell_type": "code",
      "source": [
        "print('HINT', int(True), int(False))\n",
        "print('HINT', float(True), float(False))\n",
        "print('HINT', str(True), str(False))"
      ],
      "metadata": {
        "colab": {
          "base_uri": "https://localhost:8080/"
        },
        "id": "gVv35TEH5CCk",
        "outputId": "a9e4f2cd-a7ed-432b-df60-cb1a154c035c"
      },
      "execution_count": 41,
      "outputs": [
        {
          "output_type": "stream",
          "name": "stdout",
          "text": [
            "HINT 1 0\n",
            "HINT 1.0 0.0\n",
            "HINT True False\n"
          ]
        }
      ]
    },
    {
      "cell_type": "code",
      "source": [
        "print(bool(False - 1)) # 0-1 = -1 >>True\n",
        "print(bool(True - 3)) # 1-3=-2 >>True\n",
        "print(True + 3)# 1+3=4"
      ],
      "metadata": {
        "colab": {
          "base_uri": "https://localhost:8080/"
        },
        "id": "Y9Xn9WvE5H69",
        "outputId": "d0c7cf02-4ee4-45f4-cd86-d0b3494bd5e8"
      },
      "execution_count": 42,
      "outputs": [
        {
          "output_type": "stream",
          "name": "stdout",
          "text": [
            "True\n",
            "True\n",
            "4\n"
          ]
        }
      ]
    },
    {
      "cell_type": "code",
      "source": [
        "print('''\n",
        "❓ What will be the output of the following python expression\n",
        "```python\n",
        "print(-50 % 7)\n",
        "```\n",
        "\n",
        "```\n",
        "a. 7\n",
        "b. 1\n",
        "c. 6\n",
        "d. 13\n",
        "```\n",
        "''')\n",
        "\n",
        "print(-50 % 7)\n",
        "# HINT: By definition, remainder cannot be negative.\n",
        "print(-50 % 7)\n",
        "# -50 = 7*(-7) +(-1) ❌\n",
        "# -5 = 7*(-8) + (6) ✅"
      ],
      "metadata": {
        "colab": {
          "base_uri": "https://localhost:8080/"
        },
        "id": "IJ_ayVQG5Qed",
        "outputId": "1761691e-11f2-41f4-a10a-d31140c8b2a6"
      },
      "execution_count": 45,
      "outputs": [
        {
          "output_type": "stream",
          "name": "stdout",
          "text": [
            "\n",
            "❓ What will be the output of the following python expression\n",
            "```python\n",
            "print(-50 % 7)\n",
            "```\n",
            "\n",
            "```\n",
            "a. 7\n",
            "b. 1\n",
            "c. 6\n",
            "d. 13\n",
            "```\n",
            "\n",
            "6\n",
            "6\n"
          ]
        }
      ]
    },
    {
      "cell_type": "code",
      "source": [
        "print(\"\"\"❓Pac-man**Problem Description**\n",
        "In this exercise, you need to implement some rules from [Pac-Man](https://en.wikipedia.org/wiki/Pac-Man), the classic 1980s-era arcade-game.\n",
        "You have to answer whether the Pac-Man loses or not.\n",
        "Your are given the following integer inputs (0 / 1) one in each line:\n",
        "1\\. Does the Pac-Man have a power pellect active?\n",
        "2\\. Is the Pac-Man touching a ghost?\n",
        "The Pac-Man loses if it is touching a ghost and **does not **have a power pellet active.\\\n",
        "**Input Format**\n",
        "There are 2 lines in the input.\n",
        "The first line indicates if the Pac-Man has a power pellet active (1 for yes, 0 for no)\n",
        "The second line indicates if the Pac-Man is touching a ghost (1 for yes, 0 for no)\n",
        "**Output Format**\n",
        "Print 1 if the Pac-Man loses else 0.\n",
        "**Example Input**\n",
        "Input 1:-\n",
        "0\\\n",
        "1\n",
        "Input 2:-\n",
        "0\\\n",
        "0\n",
        "**Example Output**\n",
        "Output 1:-\n",
        "1\n",
        "Output 2:-\n",
        "0\n",
        "**Example Explanation**\n",
        "Sample 1:-\n",
        "The power pellet is not active as it is 0 and the Pac-Man touches the ghost as well. So Pac-Man loses and hence the answer is 1.\n",
        "Output 2:-\n",
        "The power pellet is not active as it is 0 and the Pac-Man do not touch the ghost as well. So Pac-Man wins and hence the answer is 0.\n",
        "\"\"\")\n",
        "\n",
        "power_pellect_active = int(input()) # 1 is active , 0 it is not\n",
        "touching_a_ghost = int(input())\n",
        "\n",
        "# check if INPUT is valid\n",
        "if power_pellect_active!=0 and power_pellect_active!=1:\n",
        "    print('power_pellect_active input is INVALID')\n",
        "if touching_a_ghost!=0 and touching_a_ghost!=1:\n",
        "    print('touching_a_ghost input is INVALID')\n",
        "\n",
        "# Print 1 if the Pac-Man loses else 0.\n",
        "if touching_a_ghost and not power_pellect_active:\n",
        "    print(1)# loose\n",
        "else:\n",
        "    print(0)#win\n",
        "\n",
        "# touching_a_ghost and (not power_pellect_active)\n",
        "# dying and at risk\n",
        "# T and T"
      ],
      "metadata": {
        "colab": {
          "base_uri": "https://localhost:8080/"
        },
        "id": "5yCoWHhi5bTg",
        "outputId": "87a88df9-d321-46b5-cdc1-e06e3a8f7d64"
      },
      "execution_count": 47,
      "outputs": [
        {
          "output_type": "stream",
          "name": "stdout",
          "text": [
            "❓Pac-man**Problem Description**\n",
            "In this exercise, you need to implement some rules from [Pac-Man](https://en.wikipedia.org/wiki/Pac-Man), the classic 1980s-era arcade-game.\n",
            "You have to answer whether the Pac-Man loses or not.\n",
            "Your are given the following integer inputs (0 / 1) one in each line:\n",
            "1\\. Does the Pac-Man have a power pellect active?\n",
            "2\\. Is the Pac-Man touching a ghost?\n",
            "The Pac-Man loses if it is touching a ghost and **does not **have a power pellet active.**Input Format**\n",
            "There are 2 lines in the input.\n",
            "The first line indicates if the Pac-Man has a power pellet active (1 for yes, 0 for no)\n",
            "The second line indicates if the Pac-Man is touching a ghost (1 for yes, 0 for no)\n",
            "**Output Format**\n",
            "Print 1 if the Pac-Man loses else 0.\n",
            "**Example Input**\n",
            "Input 1:-\n",
            "01\n",
            "Input 2:-\n",
            "00\n",
            "**Example Output**\n",
            "Output 1:-\n",
            "1\n",
            "Output 2:-\n",
            "0\n",
            "**Example Explanation**\n",
            "Sample 1:-\n",
            "The power pellet is not active as it is 0 and the Pac-Man touches the ghost as well. So Pac-Man loses and hence the answer is 1.\n",
            "Output 2:-\n",
            "The power pellet is not active as it is 0 and the Pac-Man do not touch the ghost as well. So Pac-Man wins and hence the answer is 0.\n",
            "\n",
            "010\n",
            "000\n",
            "power_pellect_active input is INVALID\n",
            "0\n"
          ]
        }
      ]
    },
    {
      "cell_type": "code",
      "source": [
        "print('''\n",
        "❓Take an amount as input from the user\n",
        "    You only have 200 and 500 Rs Notes in the ATM. For one transaction,\n",
        "    you can only dispatch notes of a single type.\n",
        "    Given the amount -\n",
        "        - \"Dispatching Cash!\" if it can be dispatched.\n",
        "        - \"Denomination not available!\" if it can not be''')"
      ],
      "metadata": {
        "colab": {
          "base_uri": "https://localhost:8080/"
        },
        "id": "iAjaWA1u6bBn",
        "outputId": "7077befe-499e-445b-ad5d-0a8c7cc55ba8"
      },
      "execution_count": 48,
      "outputs": [
        {
          "output_type": "stream",
          "name": "stdout",
          "text": [
            "\n",
            "❓Take an amount as input from the user\n",
            "    You only have 200 and 500 Rs Notes in the ATM. For one transaction,\n",
            "    you can only dispatch notes of a single type.\n",
            "    Given the amount -\n",
            "        - \"Dispatching Cash!\" if it can be dispatched.\n",
            "        - \"Denomination not available!\" if it can not be\n"
          ]
        }
      ]
    },
    {
      "cell_type": "code",
      "source": [
        "A = int(input())\n",
        "if A%200 == 0 or A%500 == 0:\n",
        "  print(\"Dispatching Cash!\")\n",
        "else:\n",
        "  print(\"Denomination not available!\")"
      ],
      "metadata": {
        "colab": {
          "base_uri": "https://localhost:8080/"
        },
        "id": "O5SVI38pKOQZ",
        "outputId": "c5ac5ad3-fc74-4c65-b9e3-82a93101dbef"
      },
      "execution_count": 51,
      "outputs": [
        {
          "output_type": "stream",
          "name": "stdout",
          "text": [
            "1000\n",
            "Dispatching Cash!\n"
          ]
        }
      ]
    },
    {
      "cell_type": "code",
      "source": [
        "# ❓ ask the user for an integer greater than 9, get the last 2 digits\n",
        "# 124578 >> 78\n",
        "\n",
        "A = int(input())\n",
        "print(A%100)"
      ],
      "metadata": {
        "colab": {
          "base_uri": "https://localhost:8080/"
        },
        "id": "QYBbkdUZKQfW",
        "outputId": "0ac1e39b-7b6e-4c36-be8b-a4c838c7eba5"
      },
      "execution_count": 58,
      "outputs": [
        {
          "output_type": "stream",
          "name": "stdout",
          "text": [
            "8675\n",
            "75\n"
          ]
        }
      ]
    },
    {
      "cell_type": "code",
      "source": [
        "# ❓ ask the user for an integer greater than 9, get the  2nd last digits\n",
        "# 124578 >> 7\n",
        "\n",
        "A = int(input())\n",
        "print(\"last 2 digit\", A%100)\n",
        "print(\"2nd last digit\", (A%100)//10)"
      ],
      "metadata": {
        "colab": {
          "base_uri": "https://localhost:8080/"
        },
        "id": "ThFKABk9KQci",
        "outputId": "22c9ab31-0b2a-4e5b-e21c-6c921faf1735"
      },
      "execution_count": 62,
      "outputs": [
        {
          "output_type": "stream",
          "name": "stdout",
          "text": [
            "78954\n",
            "last 2 digit 54\n",
            "2nd last digit 5\n"
          ]
        }
      ]
    },
    {
      "cell_type": "code",
      "source": [
        "num = 123456789 # >>5\n",
        "# 123456789 >>56789>>5\n",
        "# remove left, remove right\n",
        "# %,             // or int()\n",
        "print(num%100000)\n",
        "print((num%100000)//10000)\n",
        "\n",
        "# 123456789 >>12345>>5\n",
        "# remove right, remove left\n",
        "# // or int(),  %\n",
        "print(num//10000)\n",
        "print((num//10000)%10)"
      ],
      "metadata": {
        "colab": {
          "base_uri": "https://localhost:8080/"
        },
        "id": "x4v1FBKRKQZ4",
        "outputId": "6b1c7f6f-b84f-4777-e36f-21ea05c049c4"
      },
      "execution_count": 63,
      "outputs": [
        {
          "output_type": "stream",
          "name": "stdout",
          "text": [
            "56789\n",
            "5\n",
            "12345\n",
            "5\n"
          ]
        }
      ]
    },
    {
      "cell_type": "code",
      "source": [
        "# ❓ ask the user for an integer greater than 9, get the 2nd last digit\n",
        "# 124578 >> 7\n",
        "\n",
        "num = int(input())\n",
        "print(\"last 2 digits\", num%100)\n",
        "print(\"2nd last digit\", (num%100)//10)"
      ],
      "metadata": {
        "colab": {
          "base_uri": "https://localhost:8080/"
        },
        "id": "aup5ynHfKQYI",
        "outputId": "2b516a94-bbbd-4f7f-bf4e-34ba9f45914e"
      },
      "execution_count": 64,
      "outputs": [
        {
          "output_type": "stream",
          "name": "stdout",
          "text": [
            "7893\n",
            "last 2 digits 93\n",
            "2nd last digit 9\n"
          ]
        }
      ]
    },
    {
      "cell_type": "code",
      "source": [
        "print('''\n",
        "❓ Build a meter system for an auto. Take into two inputs.\n",
        "Kilometers Travelled and Stall Time (in minutes). Rate List -\n",
        "- First 10 kms - Rs 10 per Km-100\n",
        "- Next 40 kms - Rs 9 per Km-360\n",
        "- Next 100 kms - Rs 8 per Km-800\n",
        "- Any leftover km count - Rs. 6 per Km\n",
        "\n",
        "- Rs 5 extra for every minute of Stall Time.\n",
        "''')"
      ],
      "metadata": {
        "id": "drKL9eYlKQVR"
      },
      "execution_count": null,
      "outputs": []
    },
    {
      "cell_type": "code",
      "source": [
        "kms = int(input())\n",
        "stallTime = int(input())\n",
        "\n",
        "# fare because of dist\n",
        "dist_fare = 0\n",
        "\n",
        "if kms<=10:\n",
        "    dist_fare= kms*10 # first 10 kms have the same rate of 10\n",
        "elif kms<=10+40:\n",
        "    dist_fare= 10*10 # first 10 kms have the same rate of 10\n",
        "    remaining_kms = kms-10\n",
        "    dist_fare=dist_fare+remaining_kms*9 # 11th km to 50th km fare is Rs 9 per Km\n",
        "elif kms<=10+40+100:\n",
        "    dist_fare= 10*10 # first 10 kms have the same rate of 10\n",
        "    remaining_kms = kms-10\n",
        "    dist_fare=dist_fare+40*9 # 11th km to 50th km fare is Rs 9 per Km\n",
        "    remaining_kms = remaining_kms-40\n",
        "    dist_fare=dist_fare+remaining_kms*8 # 50th km to 150th km fare is Rs 8 per Km\n",
        "else:\n",
        "    dist_fare= 10*10 # first 10 kms have the same rate of 10\n",
        "    remaining_kms = kms-10\n",
        "    dist_fare=dist_fare+40*9 # 11th km to 50th km fare is Rs 9 per Km\n",
        "    remaining_kms = remaining_kms-40\n",
        "    dist_fare=dist_fare+100*8 # 50th km to 150th km fare is Rs 8 per Km\n",
        "    remaining_kms = remaining_kms-100\n",
        "    dist_fare=dist_fare+remaining_kms*6 ## Any leftover km count - Rs. 6 per Km\n",
        "\n",
        "# fare because of stall\n",
        "stall_fare = 0\n",
        "stall_fare = stallTime*5\n",
        "\n",
        "# final fare\n",
        "print('dist_fare:', dist_fare)\n",
        "print('stall_fare:', stall_fare)\n",
        "print('Total fare:', dist_fare+stall_fare)"
      ],
      "metadata": {
        "colab": {
          "base_uri": "https://localhost:8080/"
        },
        "id": "-0dN7XokKQTS",
        "outputId": "cd47c0fc-07a4-4de7-aee4-8f185aef084f"
      },
      "execution_count": 66,
      "outputs": [
        {
          "output_type": "stream",
          "name": "stdout",
          "text": [
            "212\n",
            "5\n",
            "dist_fare: 1632\n",
            "stall_fare: 25\n",
            "Total fare: 1657\n"
          ]
        }
      ]
    },
    {
      "cell_type": "code",
      "source": [],
      "metadata": {
        "id": "85hRX5D6ctke"
      },
      "execution_count": null,
      "outputs": []
    }
  ]
}