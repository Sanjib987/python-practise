{
  "nbformat": 4,
  "nbformat_minor": 0,
  "metadata": {
    "colab": {
      "provenance": [],
      "authorship_tag": "ABX9TyOoAczW2+vAikCQzItNsFZb",
      "include_colab_link": true
    },
    "kernelspec": {
      "name": "python3",
      "display_name": "Python 3"
    },
    "language_info": {
      "name": "python"
    }
  },
  "cells": [
    {
      "cell_type": "markdown",
      "metadata": {
        "id": "view-in-github",
        "colab_type": "text"
      },
      "source": [
        "<a href=\"https://colab.research.google.com/github/Sanjib987/python-practise/blob/main/Assignment_4.ipynb\" target=\"_parent\"><img src=\"https://colab.research.google.com/assets/colab-badge.svg\" alt=\"Open In Colab\"/></a>"
      ]
    },
    {
      "cell_type": "code",
      "execution_count": null,
      "metadata": {
        "id": "AjWlNlTTZDRU"
      },
      "outputs": [],
      "source": [
        "Write a program that takes in a number N as input and does the following:\n",
        "if N is a multiple of 3, print Fizz\n",
        "if N is a multiple of 5, print Buzz\n",
        "if N is a multiple of both 3 and 5, print FizzBuzz\n",
        "Problem Constraints:\n",
        "1 <= N <= 1000\n",
        "Input Format\n",
        "There is only 1 single line in the input, which is the integer N.\n",
        "Output Format\n",
        "Print Fizz / Buzz / FizzBuzz depending on the value N."
      ]
    },
    {
      "cell_type": "code",
      "source": [
        "N = int(input())\n",
        "if N%3==0 and N%5==0:\n",
        "  print(\"FizzBuzz\")\n",
        "elif N%3==0:\n",
        "  print(\"Fizz\")\n",
        "elif N%5==0:\n",
        "  print(\"Buzz\")"
      ],
      "metadata": {
        "colab": {
          "base_uri": "https://localhost:8080/"
        },
        "id": "YUP-LFYKZxGu",
        "outputId": "f23d9b5c-1161-4bc3-ed44-5656560b4303"
      },
      "execution_count": 4,
      "outputs": [
        {
          "output_type": "stream",
          "name": "stdout",
          "text": [
            "30\n",
            "FizzBuzz\n"
          ]
        }
      ]
    },
    {
      "cell_type": "code",
      "source": [
        "a = 1\n",
        "b = 0\n",
        "c = 1\n",
        "if (a and b):\n",
        "    print(\"Scaler is awesome\")\n",
        "elif (a and c):\n",
        "    print(\"ML is fun\")\n",
        "if (a and b and c):\n",
        "    print(\"Python is amazing\")\n",
        "if (a or b or c):\n",
        "    print(\"I love DS\")"
      ],
      "metadata": {
        "colab": {
          "base_uri": "https://localhost:8080/"
        },
        "id": "jsTzVwkIZxES",
        "outputId": "cbccc530-7958-4fef-abf4-599918724307"
      },
      "execution_count": 5,
      "outputs": [
        {
          "output_type": "stream",
          "name": "stdout",
          "text": [
            "ML is fun\n",
            "I love DS\n"
          ]
        }
      ]
    },
    {
      "cell_type": "code",
      "source": [
        "Given an integer A representing an year, Return 1 if it is a leap year else return 0.\n",
        "\n",
        "A year is leap year if the following conditions are satisfied:\n",
        "Year is multiple of 400.\n",
        "Else the year is multiple of 4 and not multiple of 100.\n"
      ],
      "metadata": {
        "id": "GFj_H69wb46g"
      },
      "execution_count": null,
      "outputs": []
    },
    {
      "cell_type": "code",
      "source": [
        "A = int(input())\n",
        "if (A%400==0 or (A%4==0 and A%100!=0)):\n",
        "  print(\"1\")\n",
        "else:\n",
        "  print(\"0\")"
      ],
      "metadata": {
        "colab": {
          "base_uri": "https://localhost:8080/"
        },
        "id": "Y8rH6fH_cVD0",
        "outputId": "eea1eab1-b3c0-4f7c-9d88-3dec2c539cb9"
      },
      "execution_count": 8,
      "outputs": [
        {
          "output_type": "stream",
          "name": "stdout",
          "text": [
            "2020\n",
            "1\n"
          ]
        }
      ]
    },
    {
      "cell_type": "code",
      "source": [
        "a = 4\n",
        "b = -5\n",
        "if a > 0:\n",
        "    if b < 0:\n",
        "        a = a - 2\n",
        "    elif a > 5:\n",
        "        a = a - 4\n",
        "    else:\n",
        "        a = a + 3\n",
        "else:\n",
        "    b = b + 2"
      ],
      "metadata": {
        "id": "nK54m9gccVBY"
      },
      "execution_count": 9,
      "outputs": []
    },
    {
      "cell_type": "code",
      "source": [
        "You have been given a dataset for marks of 2 subjects, scored by students of classes ClassA and ClassB.\n",
        "You now want to compare the performances of class A and class B by finding out the average performance of the classes.\n",
        "Write a program to find if class A performed better. Print True is Class A is strictly better else return False.\n",
        "\n",
        "\n",
        "Input Format\n",
        "\n",
        "There are 4 lines in the input.\n",
        "The first and second lines are marks of subjects for Class A.\n",
        "The third and fourth lines are marks of subjects for Class B.\n",
        "\n",
        "\n",
        "Output Format\n",
        "\n",
        "Print True if class A is strictly better else False.\n"
      ],
      "metadata": {
        "id": "3ZhnYPfBdvTL"
      },
      "execution_count": null,
      "outputs": []
    },
    {
      "cell_type": "code",
      "source": [
        "# Input marks for Class A\n",
        "marks_a_subject1 = int(input())\n",
        "marks_a_subject2 = int(input())\n",
        "\n",
        "# Input marks for Class B\n",
        "marks_b_subject1 = int(input())\n",
        "marks_b_subject2 = int(input())\n",
        "\n",
        "# Calculate the average marks for each class\n",
        "average_marks_a = (marks_a_subject1 + marks_a_subject2) / 2\n",
        "average_marks_b = (marks_b_subject1 + marks_b_subject2) / 2\n",
        "\n",
        "# Compare the average marks and print the result\n",
        "if average_marks_a > average_marks_b:\n",
        "    print(True)  # Class A is strictly better\n",
        "else:\n",
        "    print(False)  # Class A is not strictly better"
      ],
      "metadata": {
        "colab": {
          "base_uri": "https://localhost:8080/"
        },
        "id": "Hqln2QlwewIQ",
        "outputId": "d7507b5e-2f98-4634-9b3d-c376b761716a"
      },
      "execution_count": 11,
      "outputs": [
        {
          "output_type": "stream",
          "name": "stdout",
          "text": [
            "70\n",
            "80\n",
            "90\n",
            "85\n",
            "False\n"
          ]
        }
      ]
    },
    {
      "cell_type": "code",
      "source": [
        "#Write a program to input two numbers(A & B) from user and print the minimum element among A & B in each line.\n",
        "\n",
        "A = int(input())\n",
        "B = int(input())\n",
        "if A < B:\n",
        "  print(A)\n",
        "else:\n",
        "  print(B)\n"
      ],
      "metadata": {
        "colab": {
          "base_uri": "https://localhost:8080/"
        },
        "id": "nzP0JAJaewF1",
        "outputId": "06bf7d8b-ce78-43f7-faf4-354e08713b51"
      },
      "execution_count": 12,
      "outputs": [
        {
          "output_type": "stream",
          "name": "stdout",
          "text": [
            "6\n",
            "7\n",
            "6\n"
          ]
        }
      ]
    },
    {
      "cell_type": "code",
      "source": [
        "x = 2\n",
        "if x==2:\n",
        "    x = 3\n",
        "x = 4\n",
        "else:\n",
        "    x = 5\n",
        "print(x)"
      ],
      "metadata": {
        "colab": {
          "base_uri": "https://localhost:8080/",
          "height": 140
        },
        "id": "6kpe-DwQgC-y",
        "outputId": "ad77a54b-d7cd-42d7-c94a-027f7b364508"
      },
      "execution_count": 13,
      "outputs": [
        {
          "output_type": "error",
          "ename": "SyntaxError",
          "evalue": "ignored",
          "traceback": [
            "\u001b[0;36m  File \u001b[0;32m\"<ipython-input-13-f39cd7db9a9c>\"\u001b[0;36m, line \u001b[0;32m5\u001b[0m\n\u001b[0;31m    else:\u001b[0m\n\u001b[0m    ^\u001b[0m\n\u001b[0;31mSyntaxError\u001b[0m\u001b[0;31m:\u001b[0m invalid syntax\n"
          ]
        }
      ]
    },
    {
      "cell_type": "code",
      "source": [
        "Problem Description\n",
        "You are given 3 integer angles(in degrees) A, B and C of a triangle. You have to tell whether the triangle is valid or not.\n",
        "A triangle is valid if sum of its angles equals to 180.\n",
        "Problem Constraints\n",
        "1 <= A, B, C <= 180"
      ],
      "metadata": {
        "id": "xh2tFf9cgR0c"
      },
      "execution_count": null,
      "outputs": []
    },
    {
      "cell_type": "code",
      "source": [
        "# Input the three angles\n",
        "A = int(input())\n",
        "B = int(input())\n",
        "C = int(input())\n",
        "\n",
        "# Check if the sum of angles equals 180\n",
        "if A + B + C == 180:\n",
        "    print(1)  # Valid triangle\n",
        "else:\n",
        "    print(0)  # Invalid triangle"
      ],
      "metadata": {
        "colab": {
          "base_uri": "https://localhost:8080/"
        },
        "id": "ceOuwt1egmSz",
        "outputId": "4a7261b3-14c9-4830-f9cd-d30c38a78554"
      },
      "execution_count": 15,
      "outputs": [
        {
          "output_type": "stream",
          "name": "stdout",
          "text": [
            "90\n",
            "45\n",
            "45\n",
            "1\n"
          ]
        }
      ]
    },
    {
      "cell_type": "code",
      "source": [
        "You are given the Cost Price C and Selling Price S of a Product. You have to tell whether there is a Profit or Loss. Also, calculate total profit or loss.\n",
        "NOTE: It is guaranteed that Cost Price and Selling Price are not equal.\n",
        "Problem Constraints\n",
        "1 <= C, S <= 109\n",
        "C ≠ S\n",
        "Input Format\n",
        "First line of the input contains a single integer C.\n",
        "Second line of the input contains a single integer S.\n",
        "Output Format\n",
        "Print two integers in separate lines.\n",
        "First integer denotes whether there is a profit or loss. If there is a profit, print 1, else print -1.\n",
        "Second integer is a non-negative integer denoting the absolute value of total profit or loss."
      ],
      "metadata": {
        "id": "1UiJ8fXvhJsZ"
      },
      "execution_count": null,
      "outputs": []
    },
    {
      "cell_type": "code",
      "source": [
        "# Input cost price (C) and selling price (S)\n",
        "C = int(input())\n",
        "S = int(input())\n",
        "\n",
        "# Calculate profit or loss\n",
        "if S > C:\n",
        "    # Profit case\n",
        "    profit_or_loss = 1\n",
        "    total_profit_loss = S - C\n",
        "else:\n",
        "    # Loss case\n",
        "    profit_or_loss = -1\n",
        "    total_profit_loss = C - S\n",
        "\n",
        "# Output the result\n",
        "print(profit_or_loss)\n",
        "print(total_profit_loss)"
      ],
      "metadata": {
        "colab": {
          "base_uri": "https://localhost:8080/"
        },
        "id": "wTzx7ZxsvHiW",
        "outputId": "d46ce9d4-a1aa-4136-e914-0aca0bc8b3e0"
      },
      "execution_count": 17,
      "outputs": [
        {
          "output_type": "stream",
          "name": "stdout",
          "text": [
            "100\n",
            "120\n",
            "1\n",
            "20\n"
          ]
        }
      ]
    },
    {
      "cell_type": "code",
      "source": [
        "Write a program to input an integer(A) from user and print the Ath month of the year.\n",
        "Months list: {January, February, March, April, May, June, July, August, September, October, November, December}"
      ],
      "metadata": {
        "id": "Kyu8TxFavHfE"
      },
      "execution_count": null,
      "outputs": []
    },
    {
      "cell_type": "code",
      "source": [
        "# List of months\n",
        "months = [\"January\", \"February\", \"March\", \"April\",\"May\", \"June\", \"July\", \"August\",\"September\", \"October\", \"November\", \"December\"]\n",
        "\n",
        "# Input the integer A\n",
        "A = int(input())\n",
        "\n",
        "# Check if A is within the valid range\n",
        "if 1 <= A <= 12:\n",
        "    # Subtract 1 from A to access the correct index in the list\n",
        "    month_name = months[A-1]\n",
        "    print(month_name)\n",
        "else:\n",
        "    print(\"Invalid input. Please enter an integer between 1 and 12.\")\n"
      ],
      "metadata": {
        "colab": {
          "base_uri": "https://localhost:8080/"
        },
        "id": "OyGnucl6vHdj",
        "outputId": "b36097be-3fd7-498e-962c-19ba55321028"
      },
      "execution_count": 21,
      "outputs": [
        {
          "output_type": "stream",
          "name": "stdout",
          "text": [
            "8\n",
            "August\n"
          ]
        }
      ]
    },
    {
      "cell_type": "code",
      "source": [
        "Write a program to input from user an integer(n) representing the rating of a person on a platform.\n",
        "\n",
        "You have to print the category of that person.\n",
        "\n",
        "If the rating is greater than or equal to 2100 then that person is \"grand master\".\n",
        "If the rating is greater than or equal to 1900 then that person is \"candidate master\".\n",
        "If the rating is greater than or equal to 1600 then that person is \"expert\".\n",
        "If the rating is greater than or equal to 1400 then that person is \"pupil\".\n",
        "If the rating is smaller than 1400 then that person is \"newbie\".\n",
        "NOTE: Print all the chars of the category of the person in lowercase if rating is odd otherwise print in UPPERCASE\n",
        "\n"
      ],
      "metadata": {
        "id": "ZoPnI1_pvHSY"
      },
      "execution_count": 21,
      "outputs": []
    },
    {
      "cell_type": "code",
      "source": [
        "n = int(input())\n",
        "\n",
        "if n >= 2100:\n",
        "    category = \"grand master\"\n",
        "elif n >= 1900:\n",
        "    category = \"candidate master\"\n",
        "elif n >= 1600:\n",
        "    category = \"expert\"\n",
        "elif n >= 1400:\n",
        "    category = \"pupil\"\n",
        "else:\n",
        "    category = \"newbie\"\n",
        "\n",
        "if n % 2 == 0:\n",
        "    category = category.upper()\n",
        "else:\n",
        "    category = category.lower()\n",
        "\n",
        "print(category)"
      ],
      "metadata": {
        "colab": {
          "base_uri": "https://localhost:8080/"
        },
        "id": "7mVVJrMFxYwk",
        "outputId": "507e8f01-8d73-43d7-cce2-e882213cca31"
      },
      "execution_count": 22,
      "outputs": [
        {
          "output_type": "stream",
          "name": "stdout",
          "text": [
            "2200\n",
            "GRAND MASTER\n"
          ]
        }
      ]
    },
    {
      "cell_type": "code",
      "source": [],
      "metadata": {
        "id": "cHSSuF1dxaMT"
      },
      "execution_count": 22,
      "outputs": []
    }
  ]
}