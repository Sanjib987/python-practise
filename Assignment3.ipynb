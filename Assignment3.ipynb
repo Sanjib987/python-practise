{
  "nbformat": 4,
  "nbformat_minor": 0,
  "metadata": {
    "colab": {
      "provenance": [],
      "authorship_tag": "ABX9TyOFzCDOFEpwvfNYj2y9l1cZ",
      "include_colab_link": true
    },
    "kernelspec": {
      "name": "python3",
      "display_name": "Python 3"
    },
    "language_info": {
      "name": "python"
    }
  },
  "cells": [
    {
      "cell_type": "markdown",
      "metadata": {
        "id": "view-in-github",
        "colab_type": "text"
      },
      "source": [
        "<a href=\"https://colab.research.google.com/github/Sanjib987/python-practise/blob/main/Assignment3.ipynb\" target=\"_parent\"><img src=\"https://colab.research.google.com/assets/colab-badge.svg\" alt=\"Open In Colab\"/></a>"
      ]
    },
    {
      "cell_type": "code",
      "execution_count": 1,
      "metadata": {
        "colab": {
          "base_uri": "https://localhost:8080/"
        },
        "id": "jsp1TgOTRuwi",
        "outputId": "f7ad0ddd-7a89-4fd6-c50b-f66561a040e4"
      },
      "outputs": [
        {
          "output_type": "stream",
          "name": "stdout",
          "text": [
            "9\n"
          ]
        }
      ],
      "source": [
        "print((3 + 4) // 2 + 6)"
      ]
    },
    {
      "cell_type": "code",
      "source": [
        "a = -1 # __ change this\n",
        "b = 0 # __ change this\n",
        "c = 1 # __ change this\n",
        "\n",
        "# DO NOT CHANGE THIS\n",
        "x = a < b + c\n",
        "\n",
        "print(x) # this should be True"
      ],
      "metadata": {
        "colab": {
          "base_uri": "https://localhost:8080/"
        },
        "id": "V_GgjOcIRzsT",
        "outputId": "1ddb9751-e8c5-460d-8b13-4624fdf7ffbf"
      },
      "execution_count": 2,
      "outputs": [
        {
          "output_type": "stream",
          "name": "stdout",
          "text": [
            "True\n"
          ]
        }
      ]
    },
    {
      "cell_type": "code",
      "source": [
        "# Given total bills amount and amount of a single bill. Print number of bills.Note : The total amount is equally splitted in all bills. The number of bills should be an integer value.\n",
        "\n",
        "N = int(input())\n",
        "M = int(input())\n",
        "\n",
        "print(int(N//M))"
      ],
      "metadata": {
        "colab": {
          "base_uri": "https://localhost:8080/"
        },
        "id": "BEBUELRnSO8W",
        "outputId": "42f7304d-692d-4f78-9d8d-aa93b89069dc"
      },
      "execution_count": 5,
      "outputs": [
        {
          "output_type": "stream",
          "name": "stdout",
          "text": [
            "1000\n",
            "22\n",
            "45\n"
          ]
        }
      ]
    },
    {
      "cell_type": "code",
      "source": [
        "# A group of spammers is troubling Varun by calling on his mobile phone repeatedly.\n",
        "# After a while, Varun observed a pattern that the mobile number from which the spammers call him is\n",
        "# always lesser than his mobile number when compared on the number line. The mobile number of Varun is 1234880990.\n",
        "#Given a mobile number as an input print True if the number belongs to the spammers else False.\n",
        "\n",
        "A = 1234880990\n",
        "N = int(input())\n",
        "if(A>N):\n",
        "    print(True)\n",
        "else:\n",
        "    print(False)"
      ],
      "metadata": {
        "colab": {
          "base_uri": "https://localhost:8080/"
        },
        "id": "B1IJ6IjYSne7",
        "outputId": "d3d18874-fab9-45a5-c5f8-cb5e416ab222"
      },
      "execution_count": 8,
      "outputs": [
        {
          "output_type": "stream",
          "name": "stdout",
          "text": [
            "1234567891\n",
            "True\n"
          ]
        }
      ]
    },
    {
      "cell_type": "code",
      "source": [
        "print(\"54\" + \"23\")"
      ],
      "metadata": {
        "colab": {
          "base_uri": "https://localhost:8080/"
        },
        "id": "ei8SA0vwTbDu",
        "outputId": "0807e919-22ab-4b97-a311-98027051c5bb"
      },
      "execution_count": 9,
      "outputs": [
        {
          "output_type": "stream",
          "name": "stdout",
          "text": [
            "5423\n"
          ]
        }
      ]
    },
    {
      "cell_type": "code",
      "source": [
        "print(True == 1)"
      ],
      "metadata": {
        "colab": {
          "base_uri": "https://localhost:8080/"
        },
        "id": "q_7cpZMRTx_2",
        "outputId": "02b84743-2fce-401b-cbe0-d020921094a3"
      },
      "execution_count": 10,
      "outputs": [
        {
          "output_type": "stream",
          "name": "stdout",
          "text": [
            "True\n"
          ]
        }
      ]
    },
    {
      "cell_type": "code",
      "source": [
        "print(\"1\" == 1)"
      ],
      "metadata": {
        "colab": {
          "base_uri": "https://localhost:8080/"
        },
        "id": "Em60xgs2T2Do",
        "outputId": "3eca9c5a-f11f-4e38-d314-dfa4dd04c1b0"
      },
      "execution_count": 11,
      "outputs": [
        {
          "output_type": "stream",
          "name": "stdout",
          "text": [
            "False\n"
          ]
        }
      ]
    },
    {
      "cell_type": "code",
      "source": [
        "x = 55 / 11\n",
        "print(x)"
      ],
      "metadata": {
        "colab": {
          "base_uri": "https://localhost:8080/"
        },
        "id": "oLjP6LfUT6p0",
        "outputId": "26b8bf8f-e150-4ec6-e737-2a2f03000d86"
      },
      "execution_count": 12,
      "outputs": [
        {
          "output_type": "stream",
          "name": "stdout",
          "text": [
            "5.0\n"
          ]
        }
      ]
    },
    {
      "cell_type": "code",
      "source": [],
      "metadata": {
        "id": "oZtzOp85T_30"
      },
      "execution_count": null,
      "outputs": []
    }
  ]
}