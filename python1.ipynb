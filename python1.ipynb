{
  "nbformat": 4,
  "nbformat_minor": 0,
  "metadata": {
    "colab": {
      "provenance": [],
      "authorship_tag": "ABX9TyNiSWAIoF6urtIxK8i95zy1",
      "include_colab_link": true
    },
    "kernelspec": {
      "name": "python3",
      "display_name": "Python 3"
    },
    "language_info": {
      "name": "python"
    }
  },
  "cells": [
    {
      "cell_type": "markdown",
      "metadata": {
        "id": "view-in-github",
        "colab_type": "text"
      },
      "source": [
        "<a href=\"https://colab.research.google.com/github/Sanjib987/python-practise/blob/main/python1.ipynb\" target=\"_parent\"><img src=\"https://colab.research.google.com/assets/colab-badge.svg\" alt=\"Open In Colab\"/></a>"
      ]
    },
    {
      "cell_type": "code",
      "execution_count": 10,
      "metadata": {
        "colab": {
          "base_uri": "https://localhost:8080/"
        },
        "id": "DzgO99Z3KNfg",
        "outputId": "36f9dceb-8e52-423c-bcce-f78c6f8619f5"
      },
      "outputs": [
        {
          "output_type": "stream",
          "name": "stdout",
          "text": [
            "hi\n",
            "hi\n",
            "I love python\n",
            "shortcut to run python code cell is shift + enter\n",
            "this is something I wrote\n",
            "someone tole me I can use double quotes as well\n",
            "will this run?\n",
            "what about this?\n",
            "whqat about this ONE?\n",
            "sometimes we can get errors and that is fine\n",
            "how do you create comments?\n",
            "any line that starts with hash(#) is a python comment\n",
            "python comments are completely ignoresd by python\n",
            "in general we use python comments to document code\n",
            "this will show output on a single line\n",
            "still on a single line\n",
            "I am getting tired, how do I write on multipltle lines\n",
            "to\n",
            "print\n",
            "output on\n",
            "multiple lines\n",
            "we use tripple quotes\n",
            "to\n",
            "print\n",
            "output on\n",
            "multiple lines\n",
            "we use tripple quotes\n",
            "we used print to show output on screen\n",
            "anything that we want shown shold be in single quotes, double quotes OR tripple single quotes OR tripple double quotes\n",
            "single quote\n",
            "double quote\n",
            "tripple single\n",
            "quote\n",
            " tripple double\n",
            "quote\n",
            "tripple quotes allow you to have output that can go on as many lines as possible\n",
            "Python comments start with # and are ignored by python\n"
          ]
        }
      ],
      "source": [
        "print('hi')\n",
        "print(\"hi\")\n",
        "print(\"I love python\")\n",
        "print(\"shortcut to run python code cell is shift + enter\")\n",
        "print('this is something I wrote')\n",
        "print(\"someone tole me I can use double quotes as well\")\n",
        "print(\"will this run?\")\n",
        "print('what about this?')\n",
        "print('whqat about this ONE?')\n",
        "print(\"sometimes we can get errors and that is fine\")\n",
        "# but some times we want to ignore errors\n",
        "#and for that we have python comments\n",
        "print('how do you create comments?')\n",
        "print(\"any line that starts with hash(#) is a python comment\")\n",
        "print('python comments are completely ignoresd by python')\n",
        "print('in general we use python comments to document code')\n",
        "print('this will show output on a single line')\n",
        "print(\"still on a single line\")\n",
        "print('I am getting tired, how do I write on multipltle lines')\n",
        "print('''to\n",
        "print\n",
        "output on\n",
        "multiple lines\n",
        "we use tripple quotes''')\n",
        "print(\"\"\"to\n",
        "print\n",
        "output on\n",
        "multiple lines\n",
        "we use tripple quotes\"\"\")\n",
        "print(\"we used print to show output on screen\")\n",
        "print(\"anything that we want shown shold be in single quotes, double quotes OR tripple single quotes OR tripple double quotes\")\n",
        "print('single quote')\n",
        "print(\"double quote\")\n",
        "print('''tripple single\n",
        "quote''')\n",
        "print(\"\"\" tripple double\n",
        "quote\"\"\")\n",
        "print(\"\"\"tripple quotes allow you to have output that can go on as many lines as possible\"\"\")\n",
        "print(\"Python comments start with # and are ignored by python\")\n",
        "# like this"
      ]
    },
    {
      "cell_type": "code",
      "source": [
        "# data types\n",
        "# 5 in python\n",
        "\n",
        "\n",
        "# str\n",
        "print('hi')\n",
        "print(\"hi\")\n",
        "print('''tripple single\n",
        "quote''')\n",
        "print(\"\"\" tripple double\n",
        "quote\"\"\")\n",
        "print(\"\"\"12345678990-=[]'l;/.,?><:\"}|{+_)(*&^%$!@#)}\"\"\")\n",
        "print(\"65\")\n",
        "print(\"65-60\")\n",
        "\n",
        "\n",
        "# int\n",
        "print(65)\n",
        "print(65-60)\n",
        "print(0)\n",
        "print(-100)\n",
        "\n",
        "\n",
        "# float\n",
        "print(100.5)\n",
        "print(0.0)\n",
        "print(-10.01)\n",
        "print(100.5*2.5)\n",
        "\n",
        "\n",
        "# bool\n",
        "print(True)\n",
        "print(False)\n",
        "\n",
        "\n",
        "# None\n",
        "print(None)\n",
        "\n",
        "\n",
        "# str\n",
        "print('hi')\n",
        "print(\"hi\")\n",
        "print('''tripple single\n",
        "quote''')\n",
        "print(\"\"\" tripple double\n",
        "quote\"\"\")\n",
        "print(\"\"\"12345678990-=[]'l;/.,?><:\"}|{+_)(*&^%$!@#)}\"\"\")\n",
        "print(\"65\")\n",
        "print(\"65-60\")\n",
        "# int\n",
        "print(65)\n",
        "print(65-60)\n",
        "print(0)\n",
        "print(-100)\n",
        "# float\n",
        "print(100.5)\n",
        "print(0.0)\n",
        "print(-10.01)\n",
        "print(100.5*2.5)\n",
        "# bool\n",
        "print(True)\n",
        "print(False)\n",
        "# None\n",
        "print(None)"
      ],
      "metadata": {
        "colab": {
          "base_uri": "https://localhost:8080/"
        },
        "id": "OLzk9nVBLBH3",
        "outputId": "765b2915-6d45-40d9-f8c4-c0821da4b1dc"
      },
      "execution_count": 16,
      "outputs": [
        {
          "output_type": "stream",
          "name": "stdout",
          "text": [
            "hi\n",
            "hi\n",
            "tripple single\n",
            "quote\n",
            " tripple double\n",
            "quote\n",
            "12345678990-=[]'l;/.,?><:\"}|{+_)(*&^%$!@#)}\n",
            "65\n",
            "65-60\n",
            "65\n",
            "5\n",
            "0\n",
            "-100\n",
            "100.5\n",
            "0.0\n",
            "-10.01\n",
            "251.25\n",
            "True\n",
            "False\n",
            "None\n",
            "hi\n",
            "hi\n",
            "tripple single\n",
            "quote\n",
            " tripple double\n",
            "quote\n",
            "12345678990-=[]'l;/.,?><:\"}|{+_)(*&^%$!@#)}\n",
            "65\n",
            "65-60\n",
            "65\n",
            "5\n",
            "0\n",
            "-100\n",
            "100.5\n",
            "0.0\n",
            "-10.01\n",
            "251.25\n",
            "True\n",
            "False\n",
            "None\n"
          ]
        }
      ]
    },
    {
      "cell_type": "code",
      "source": [
        "print(\"I 💘 python🐍\")\n",
        "print(\"😀👍\")"
      ],
      "metadata": {
        "colab": {
          "base_uri": "https://localhost:8080/"
        },
        "id": "ymwQMRdSLBE1",
        "outputId": "5adc940e-19f6-47ba-9ba1-3341b0b30e16"
      },
      "execution_count": 17,
      "outputs": [
        {
          "output_type": "stream",
          "name": "stdout",
          "text": [
            "I 💘 python🐍\n",
            "😀👍\n"
          ]
        }
      ]
    },
    {
      "cell_type": "code",
      "source": [
        "# expressions\n",
        "\n",
        "name = \"Cristiano Ronaldo\"\n",
        "print(name, type(name))\n",
        "age = 38\n",
        "print(age, type(age))\n",
        "height = 185.5\n",
        "print(height, type(height))\n",
        "isHeBetterThanMessi = True\n",
        "print(isHeBetterThanMessi, type(isHeBetterThanMessi))\n",
        "FIFA_trophies = None\n",
        "print(FIFA_trophies, type(FIFA_trophies))"
      ],
      "metadata": {
        "colab": {
          "base_uri": "https://localhost:8080/"
        },
        "id": "A5YJAB_pLBDP",
        "outputId": "b17d8460-ed5c-4a2f-e1ad-4aa18635c0d8"
      },
      "execution_count": 19,
      "outputs": [
        {
          "output_type": "stream",
          "name": "stdout",
          "text": [
            "Cristiano Ronaldo <class 'str'>\n",
            "38 <class 'int'>\n",
            "185.5 <class 'float'>\n",
            "True <class 'bool'>\n",
            "None <class 'NoneType'>\n"
          ]
        }
      ]
    },
    {
      "cell_type": "code",
      "source": [
        "# variable name cannot start with a number\n",
        "#2ab = \"Ronaldo\"\n",
        "\n",
        "# variable name cannot have a space\n",
        "# this is my Name = \"Ronaldo\"\n",
        "\n",
        "# variable name cannot be a keyword\n",
        "# lambda = 10\n",
        "\n",
        "help('keywords')"
      ],
      "metadata": {
        "colab": {
          "base_uri": "https://localhost:8080/"
        },
        "id": "1wM3FA1VLA_3",
        "outputId": "8ac22f9d-1a71-4ac4-8466-5a542897e7a8"
      },
      "execution_count": 21,
      "outputs": [
        {
          "output_type": "stream",
          "name": "stdout",
          "text": [
            "\n",
            "Here is a list of the Python keywords.  Enter any keyword to get more help.\n",
            "\n",
            "False               class               from                or\n",
            "None                continue            global              pass\n",
            "True                def                 if                  raise\n",
            "and                 del                 import              return\n",
            "as                  elif                in                  try\n",
            "assert              else                is                  while\n",
            "async               except              lambda              with\n",
            "await               finally             nonlocal            yield\n",
            "break               for                 not                 \n",
            "\n"
          ]
        }
      ]
    },
    {
      "cell_type": "code",
      "source": [
        "# print()\n",
        "# type()\n",
        "# help()\n",
        "# anything that ends with () is a python function\n",
        "print(\"this is using print as a python function\")"
      ],
      "metadata": {
        "colab": {
          "base_uri": "https://localhost:8080/"
        },
        "id": "7KMqZvTsLA9u",
        "outputId": "499a71f2-8f51-4dea-881f-1146c12143e8"
      },
      "execution_count": 23,
      "outputs": [
        {
          "output_type": "stream",
          "name": "stdout",
          "text": [
            "this is using print as a python function\n"
          ]
        }
      ]
    },
    {
      "cell_type": "code",
      "source": [
        "# using popular python functions as variable names is not recommended\n",
        "# print = 2\n",
        "# print(\"can I still show output\")\n",
        "# 😢\n",
        "# runtime >  disconnect and delete runtime\n",
        "print(\"all varaiables are reset\")"
      ],
      "metadata": {
        "colab": {
          "base_uri": "https://localhost:8080/"
        },
        "id": "wSOsPwkBMjfa",
        "outputId": "f391577a-4a1d-4bac-d1c9-6bf9cc2d7142"
      },
      "execution_count": 24,
      "outputs": [
        {
          "output_type": "stream",
          "name": "stdout",
          "text": [
            "all varaiables are reset\n"
          ]
        }
      ]
    },
    {
      "cell_type": "code",
      "source": [
        "name = 'Ronaldo'\n",
        "print(name)\n",
        "print(type(name))"
      ],
      "metadata": {
        "colab": {
          "base_uri": "https://localhost:8080/"
        },
        "id": "L7Jw0dFZMjc5",
        "outputId": "5c0026cd-86b8-47ba-b650-50472da6286a"
      },
      "execution_count": 26,
      "outputs": [
        {
          "output_type": "stream",
          "name": "stdout",
          "text": [
            "Ronaldo\n",
            "<class 'str'>\n"
          ]
        }
      ]
    },
    {
      "cell_type": "code",
      "source": [
        "# input function\n",
        "# this is used to get input\n",
        "input()\n",
        "print('Hey I got some input')\n",
        "\n",
        "# i can store the user input in a var\n",
        "userGaveMe=input()\n",
        "print(\"THis is what the user gave\", userGaveMe)"
      ],
      "metadata": {
        "colab": {
          "base_uri": "https://localhost:8080/"
        },
        "id": "QXpUVU-fMjY7",
        "outputId": "ea953385-2fa9-478f-f5b0-c9a80507bb9e"
      },
      "execution_count": 28,
      "outputs": [
        {
          "output_type": "stream",
          "name": "stdout",
          "text": [
            "Sanjib\n",
            "Hey I got some input\n",
            "Sanjib\n",
            "THis is what the user gave Sanjib\n"
          ]
        }
      ]
    },
    {
      "cell_type": "code",
      "source": [
        "print('starting to get the input')\n",
        "userGaveMe=input()\n",
        "print('Input gotten')"
      ],
      "metadata": {
        "colab": {
          "base_uri": "https://localhost:8080/"
        },
        "id": "LZjhMqT6MjXZ",
        "outputId": "8bd0c52e-41f7-4442-868d-5a06f8f09930"
      },
      "execution_count": 29,
      "outputs": [
        {
          "output_type": "stream",
          "name": "stdout",
          "text": [
            "starting to get the input\n",
            "Sanjib\n",
            "Input gotten\n"
          ]
        }
      ]
    },
    {
      "cell_type": "code",
      "source": [
        "age = input(\"Hey user, please enter your age: \")\n",
        "print(age)\n",
        "print(type(age))\n",
        "print('26')\n",
        "print(26)"
      ],
      "metadata": {
        "colab": {
          "base_uri": "https://localhost:8080/"
        },
        "id": "vO0UBRSjMjTh",
        "outputId": "60bd7121-3c6c-4643-a485-17c89bb4b424"
      },
      "execution_count": 33,
      "outputs": [
        {
          "output_type": "stream",
          "name": "stdout",
          "text": [
            "Hey user, please enter your age: sanjib\n",
            "sanjib\n",
            "<class 'str'>\n",
            "26\n",
            "26\n"
          ]
        }
      ]
    },
    {
      "cell_type": "code",
      "source": [
        "# input stores everything as a str\n",
        "\n",
        "# print(age, type(age))\n",
        "# age_as_int = int(age)\n",
        "# print(age_as_int, type(age_as_int))\n",
        "# print(age_as_int+1)"
      ],
      "metadata": {
        "id": "X0ThOlxjMjR2"
      },
      "execution_count": 38,
      "outputs": []
    },
    {
      "cell_type": "code",
      "source": [
        "print('hello')\n",
        "height = input(\"what is your height:\")\n",
        "print(height, type(height))\n",
        "height = float(height)\n",
        "print(height, type(height))\n",
        "height = float(input(\"what is your height:\"))\n",
        "print(height, type(height))"
      ],
      "metadata": {
        "colab": {
          "base_uri": "https://localhost:8080/"
        },
        "id": "nMcdBO65Odvp",
        "outputId": "e832e672-fc83-4bbb-cb2f-4f2f42ad5e31"
      },
      "execution_count": 41,
      "outputs": [
        {
          "output_type": "stream",
          "name": "stdout",
          "text": [
            "hello\n",
            "what is your height:23\n",
            "23 <class 'str'>\n",
            "23.0 <class 'float'>\n",
            "what is your height:34\n",
            "34.0 <class 'float'>\n"
          ]
        }
      ]
    }
  ]
}