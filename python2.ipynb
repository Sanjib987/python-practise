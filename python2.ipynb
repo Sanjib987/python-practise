{
  "nbformat": 4,
  "nbformat_minor": 0,
  "metadata": {
    "colab": {
      "provenance": [],
      "authorship_tag": "ABX9TyNrNtgJJcC0YczJ7dO47+VS",
      "include_colab_link": true
    },
    "kernelspec": {
      "name": "python3",
      "display_name": "Python 3"
    },
    "language_info": {
      "name": "python"
    }
  },
  "cells": [
    {
      "cell_type": "markdown",
      "metadata": {
        "id": "view-in-github",
        "colab_type": "text"
      },
      "source": [
        "<a href=\"https://colab.research.google.com/github/Sanjib987/python-practise/blob/main/python2.ipynb\" target=\"_parent\"><img src=\"https://colab.research.google.com/assets/colab-badge.svg\" alt=\"Open In Colab\"/></a>"
      ]
    },
    {
      "cell_type": "code",
      "execution_count": 5,
      "metadata": {
        "colab": {
          "base_uri": "https://localhost:8080/"
        },
        "id": "9ZzsAJObRh7S",
        "outputId": "f949117e-2a3d-43f5-8e57-2ec9f890a926"
      },
      "outputs": [
        {
          "output_type": "stream",
          "name": "stdout",
          "text": [
            "Welcome back 😎\n",
            "print is a function that is useful to display output on screen\n",
            "this is a str that will be printed on screen\n",
            "this is a str that will be printed on screen\n",
            "this\n",
            "is a str that\n",
            "will be printed\n",
            "on screen\n",
            "this is a str that\n",
            "will be printed on screen\n",
            "<class 'str'>\n"
          ]
        }
      ],
      "source": [
        "print(\"Welcome back 😎\")\n",
        "# recap #\n",
        "print(\"print is a function that is useful to display output on screen\")\n",
        "# python is GREAT 🙌\n",
        "# 1: is case sensitive\n",
        "# 2: is precisely typed\n",
        "\n",
        "print(\"this is a str that will be printed on screen\")\n",
        "print('this is a str that will be printed on screen')\n",
        "print(\"\"\"this\n",
        "is a str that\n",
        "will be printed\n",
        "on screen\"\"\")\n",
        "print('''this is a str that\n",
        "will be printed on screen''')\n",
        "\n",
        "print(type('''this is a str that\n",
        "will be printed on screen'''))"
      ]
    },
    {
      "cell_type": "code",
      "source": [
        "# 5 data types >> # str, int, float, bool, none\n",
        "\n",
        "# str\n",
        "print(\"this is a str that will be printed on screen\")\n",
        "print('this is a str that will be printed on screen')\n",
        "print(\"\"\"this\n",
        "is a str that\n",
        "will be printed\n",
        "on screen\"\"\")\n",
        "print('''this is a str that\n",
        "will be printed on screen''')\n",
        "\n",
        "\n",
        "## int\n",
        "print(-1,0,1)\n",
        "print(type(-1),type(0),type(1))\n",
        "\n",
        "\n",
        "## float\n",
        "print(-1.123,0.456,1.0)\n",
        "print(type(-1.123),type(0.456),type(1.0))\n",
        "\n",
        "# bool\n",
        "print(True)\n",
        "print(False)\n",
        "# print(false)\n",
        "\n",
        "# None\n",
        "print(None)"
      ],
      "metadata": {
        "colab": {
          "base_uri": "https://localhost:8080/"
        },
        "id": "LdWJ5B4sSsCS",
        "outputId": "c59dc9ac-63b2-4649-ac24-932e7ceea7e9"
      },
      "execution_count": 13,
      "outputs": [
        {
          "output_type": "stream",
          "name": "stdout",
          "text": [
            "this is a str that will be printed on screen\n",
            "this is a str that will be printed on screen\n",
            "this\n",
            "is a str that\n",
            "will be printed\n",
            "on screen\n",
            "this is a str that\n",
            "will be printed on screen\n",
            "-1 0 1\n",
            "<class 'int'> <class 'int'> <class 'int'>\n",
            "-1.123 0.456 1.0\n",
            "<class 'float'> <class 'float'> <class 'float'>\n",
            "True\n",
            "False\n",
            "None\n"
          ]
        }
      ]
    },
    {
      "cell_type": "code",
      "source": [
        "# I want to store\n",
        "# >> addhaar num>> str\n",
        "# >> bank bal >> float\n",
        "# >> age in years >> int\n",
        "# >> whether elephant is the BEST animal or not >> bool\n",
        "# >> people who say python is not great >> None\n",
        "# hack >>0-10 cents>>0.01$ to 0.10 $\n",
        "# 0.1*100_000_000>>$10_000_000"
      ],
      "metadata": {
        "id": "Z2-Qkq4-Sr8Q"
      },
      "execution_count": 14,
      "outputs": []
    },
    {
      "cell_type": "code",
      "source": [
        "# expressions\n",
        "# lhs = rhs\n",
        "# rhs will be processed first and will be stored in LHS\n",
        "my_var = 10\n",
        "print(my_var)\n",
        "print(type(my_var))"
      ],
      "metadata": {
        "colab": {
          "base_uri": "https://localhost:8080/"
        },
        "id": "HdsYS5G0Sr6m",
        "outputId": "1b31d185-be0d-4383-d41e-0b27e69659c0"
      },
      "execution_count": 15,
      "outputs": [
        {
          "output_type": "stream",
          "name": "stdout",
          "text": [
            "10\n",
            "<class 'int'>\n"
          ]
        }
      ]
    },
    {
      "cell_type": "code",
      "source": [
        "# varaiable names\n",
        "# no spaces\n",
        "# cannot start with numbers\n",
        "# no keyword\n",
        "# in general >> a-z, A-Z, 0-9, _\n",
        "# recommendation>> don't create var names that are popular functions\n",
        "# input function\n",
        "# gettting the input\n",
        "# IMP>> always treats absolutely everything as a str"
      ],
      "metadata": {
        "id": "ap_3jQoMSr2_"
      },
      "execution_count": null,
      "outputs": []
    },
    {
      "cell_type": "code",
      "source": [
        "name = input(\"What is your name my friend 🙂: \")\n",
        "print(\"user entered:\", name)"
      ],
      "metadata": {
        "colab": {
          "base_uri": "https://localhost:8080/"
        },
        "id": "EeEMtFMHSr1E",
        "outputId": "36d0f339-c57c-42de-f13b-76acd0c9d039"
      },
      "execution_count": 17,
      "outputs": [
        {
          "output_type": "stream",
          "name": "stdout",
          "text": [
            "What is your name my friend 🙂: sanjib\n",
            "user entered: sanjib\n"
          ]
        }
      ]
    },
    {
      "cell_type": "code",
      "source": [
        "print(int(\"1234\"))\n",
        "print(str(1234))\n",
        "print(float(\"12345.12345\"))\n",
        "# print(int(\"Ronaldo\"))"
      ],
      "metadata": {
        "colab": {
          "base_uri": "https://localhost:8080/"
        },
        "id": "yDYLM0vnSrvx",
        "outputId": "6ed5110f-b6e2-409d-f13f-c81f4e3d3821"
      },
      "execution_count": 21,
      "outputs": [
        {
          "output_type": "stream",
          "name": "stdout",
          "text": [
            "1234\n",
            "1234\n",
            "12345.12345\n"
          ]
        }
      ]
    },
    {
      "cell_type": "code",
      "source": [
        "print(int(12345.456789)) # float to int\n",
        "print(int(-12345.456789)) # float to int\n",
        "# not rounding off, throwing away the decimal values"
      ],
      "metadata": {
        "colab": {
          "base_uri": "https://localhost:8080/"
        },
        "id": "CJupL13wTnX5",
        "outputId": "b11a45dd-f8f9-4c30-defe-48138b930670"
      },
      "execution_count": 23,
      "outputs": [
        {
          "output_type": "stream",
          "name": "stdout",
          "text": [
            "12345\n",
            "-12345\n"
          ]
        }
      ]
    },
    {
      "cell_type": "code",
      "source": [
        "print(\"\"\"name\"\"\") # here name is not a var"
      ],
      "metadata": {
        "colab": {
          "base_uri": "https://localhost:8080/"
        },
        "id": "WvaHdfDGTnUe",
        "outputId": "122ec3f9-dde2-4576-c89d-3028b766faf0"
      },
      "execution_count": 24,
      "outputs": [
        {
          "output_type": "stream",
          "name": "stdout",
          "text": [
            "name\n"
          ]
        }
      ]
    },
    {
      "cell_type": "code",
      "source": [
        "name = \"Ronaldo\"\n",
        "age = 39\n",
        "height = 185.5\n",
        "isBetterThanMesi = True\n",
        "FIFA_trophies = None\n",
        "print(name, age, height, isBetterThanMesi, FIFA_trophies) # multiple output by seperating them with ,"
      ],
      "metadata": {
        "colab": {
          "base_uri": "https://localhost:8080/"
        },
        "id": "CeznAO1iTnSm",
        "outputId": "e773de31-55e7-4d7d-8670-782d2611dd48"
      },
      "execution_count": 25,
      "outputs": [
        {
          "output_type": "stream",
          "name": "stdout",
          "text": [
            "Ronaldo 39 185.5 True None\n"
          ]
        }
      ]
    },
    {
      "cell_type": "code",
      "source": [
        "print(\"Ronaldo\", 39, 185.5, True, None)\n",
        "print(\"whoaaaa\")\n",
        "print(\"whaaaat?\")\n",
        "print(\"Ronaldo\", 39, 185.5, True, None)\n",
        "print(\"Ronaldo\", 39, 185.5, True, None, sep = \" \")\n",
        "# sep >> if a single print is printing multiple data points(, seperated),\n",
        "# the output with be sep seprated [default is \" \"]\n",
        "# end >> once a print is done, what should be the end, default is new line\n",
        "print(\"Ronaldo\", 39, 185.5, True, None, sep = \"--\")\n",
        "print(\"Ronaldo\", end=\"this is done \")\n",
        "print( 39)\n",
        "print( 185.5)\n",
        "print( True)\n",
        "print(\"Ronaldo\")\n",
        "print( 39)\n",
        "print( 185.5)\n",
        "print( True)"
      ],
      "metadata": {
        "colab": {
          "base_uri": "https://localhost:8080/"
        },
        "id": "2Y2QoHVxTnPO",
        "outputId": "566d6dfb-7b2a-4ad3-d072-0cb639762929"
      },
      "execution_count": 33,
      "outputs": [
        {
          "output_type": "stream",
          "name": "stdout",
          "text": [
            "Ronaldo 39 185.5 True None\n",
            "whoaaaa\n",
            "whaaaat?\n",
            "Ronaldo 39 185.5 True None\n",
            "Ronaldo 39 185.5 True None\n",
            "Ronaldo--39--185.5--True--None\n",
            "Ronaldothis is done 39\n",
            "185.5\n",
            "True\n",
            "Ronaldo\n",
            "39\n",
            "185.5\n",
            "True\n"
          ]
        }
      ]
    },
    {
      "cell_type": "code",
      "source": [
        "# end is new line\n",
        "print(\"Ronaldo\", 39, sep = \" \")\n",
        "print( 185.5, True, sep = \",,\")\n",
        "print( None, sep = \" \")\n",
        "\n",
        "print(\"Ronaldo\", 39, sep = \"--\", end=\" <this is done>\")\n",
        "print( 185.5, True, sep = \",,\")\n",
        "print( None, sep = \" \")\n",
        "\n",
        "print(\"how to tell in a str that a new line has happened\")\n",
        "print(\"we do that by \\n this will be on a new line\")\n",
        "print(\"by default end is \\n\")\n",
        "\n",
        "# end is new line\n",
        "print(\"Ronaldo\", 39, sep = \"\\n\")\n",
        "print( 185.5, True, sep = \",,\")\n",
        "print( None, sep = \" \")\n",
        "# sep>> seperattion between values printed by same print function, default is \" \"\n",
        "# end>> how a print function ends, default is \"\\n\""
      ],
      "metadata": {
        "colab": {
          "base_uri": "https://localhost:8080/"
        },
        "id": "tzxXDm-mUwAq",
        "outputId": "8f816ab9-8575-4eca-a22b-e56acc472558"
      },
      "execution_count": 38,
      "outputs": [
        {
          "output_type": "stream",
          "name": "stdout",
          "text": [
            "Ronaldo 39\n",
            "185.5,,True\n",
            "None\n",
            "Ronaldo--39 <this is done>185.5,,True\n",
            "None\n",
            "how to tell in a str that a new line has happened\n",
            "we do that by \n",
            " this will be on a new line\n",
            "by default end is \n",
            "\n",
            "Ronaldo\n",
            "39\n",
            "185.5,,True\n",
            "None\n"
          ]
        }
      ]
    },
    {
      "cell_type": "code",
      "source": [
        "# ques\n",
        "print(\"Ronaldo\", 39, 185.5, True, None)\n",
        "# 1 why are they space seperated >> beacuse default sep =\" \"\n",
        "# 2 how to remove the space seperated\n",
        "print(\"Ronaldo\", 39, 185.5, True, None, sep=\"\")\n",
        "# 3 how to remove the space seperated and replace by ,\n",
        "print(\"Ronaldo\", 39, 185.5, True, None, sep=\",\")\n",
        "# 4 how to remove the space seperated and replace by \", \"\n",
        "print(\"Ronaldo\", 39, 185.5, True, None, sep=\", \")\n",
        "print(\"Ronaldo\", 39, 185.5, True, None, sep=\"🏃‍♂️\")"
      ],
      "metadata": {
        "colab": {
          "base_uri": "https://localhost:8080/"
        },
        "id": "qCodsMemUukB",
        "outputId": "77a5817f-fc76-4fe0-bafb-88d2ac7f6fde"
      },
      "execution_count": 40,
      "outputs": [
        {
          "output_type": "stream",
          "name": "stdout",
          "text": [
            "Ronaldo 39 185.5 True None\n",
            "Ronaldo39185.5TrueNone\n",
            "Ronaldo,39,185.5,True,None\n",
            "Ronaldo, 39, 185.5, True, None\n",
            "Ronaldo🏃‍♂️39🏃‍♂️185.5🏃‍♂️True🏃‍♂️None\n"
          ]
        }
      ]
    },
    {
      "cell_type": "code",
      "source": [
        "# simple maths\n",
        "print(20+2) # int + int\n",
        "print(\"20+2\") # str\n",
        "print(\"20\"+\"2\") # \"str\" + \"str\"\n",
        "print(\"Cristiano\"+\"Ronaldo\")\n",
        "print(20+2)\n",
        "print(20+2.5)\n",
        "print(\"Cristiano\"+\"Ronaldo\")\n",
        "print(20-2)\n",
        "print(20-2.5)\n",
        "# print(\"Cristiano\"-\"Ronaldo\")\n",
        "print(20/2)\n",
        "print(20/2.5)\n",
        "# print(\"Cristiano\"/\"Ronaldo\")\n",
        "print(20*2)\n",
        "print(20*2.5)\n",
        "# print(\"Cristiano\"*\"Ronaldo\")\n",
        "print(\"Cristiano\"*7)# a*7 = a+a+a+a+a+a+a\n",
        "print(\"Cristiano\"+\"Cristiano\")\n",
        "# print(\"Cristiano\"*7.5)\n",
        "\n",
        "## str\n",
        "# add them (+)>> concats\n",
        "# str*int>> repeats int times\n",
        "\n",
        "# numbers\n",
        "# if you +,-,*: output will be float if atleast one of them was float\n",
        "# if you /: output will always be float\n",
        "\n",
        "\n",
        "\n",
        "# print(6+3,6-3, 6/3,6*3, \\n)\n",
        "# is not working\n",
        "print(6+3,6-3, 6/3,6*3, \"\\n\")\n",
        "print(6+3,6-3, 6/3,6*3,sep= \"\\n\")"
      ],
      "metadata": {
        "colab": {
          "base_uri": "https://localhost:8080/"
        },
        "id": "u6S4qDUVUszE",
        "outputId": "c4c797b4-cc96-44b9-9988-184cf6743ae5"
      },
      "execution_count": 52,
      "outputs": [
        {
          "output_type": "stream",
          "name": "stdout",
          "text": [
            "22\n",
            "20+2\n",
            "202\n",
            "CristianoRonaldo\n",
            "22\n",
            "22.5\n",
            "CristianoRonaldo\n",
            "18\n",
            "17.5\n",
            "10.0\n",
            "8.0\n",
            "40\n",
            "50.0\n",
            "CristianoCristianoCristianoCristianoCristianoCristianoCristiano\n",
            "CristianoCristiano\n",
            "9 3 2.0 18 \n",
            "\n",
            "9\n",
            "3\n",
            "2.0\n",
            "18\n"
          ]
        }
      ]
    },
    {
      "cell_type": "code",
      "source": [
        "# Q1.\n",
        "# ask the user for 2 +ive integer numbers\n",
        "# give me the average of the 2 numbers entered\n",
        "\n",
        "first = int(input(\"Enter first integer: \"))\n",
        "second = int(input(\"Enter second integer: \"))\n",
        "print(first,second)\n",
        "total = first+second\n",
        "print(total) # int + int is int\n",
        "avg = total/2\n",
        "print(avg) # anything / is float\n",
        "print(int(avg)) # float to int\n",
        "print(type(sum)) # sum is a popular function\n",
        "print(type(avg)) # nothing called avg"
      ],
      "metadata": {
        "id": "w3jFNWIOZMxP",
        "colab": {
          "base_uri": "https://localhost:8080/"
        },
        "outputId": "000a3a44-d548-4547-bec1-55acbaf1aa44"
      },
      "execution_count": 61,
      "outputs": [
        {
          "output_type": "stream",
          "name": "stdout",
          "text": [
            "Enter first integer: 210\n",
            "Enter second integer: 190\n",
            "210 190\n",
            "400\n",
            "200.0\n",
            "200\n",
            "<class 'builtin_function_or_method'>\n",
            "<class 'float'>\n"
          ]
        }
      ]
    },
    {
      "cell_type": "code",
      "source": [
        "print(10)\n",
        "print(\"10\")\n",
        "# Print(\"5+10\")\n",
        "# P Caps so error\n",
        "#print(type(true))\n",
        "# t in True is smallcaps\n",
        "# Print(\"10+10\")"
      ],
      "metadata": {
        "colab": {
          "base_uri": "https://localhost:8080/"
        },
        "id": "-dN_5z6CTnNI",
        "outputId": "b4772f71-c544-4aa0-8c59-9ff7d2dd8c68"
      },
      "execution_count": 1,
      "outputs": [
        {
          "output_type": "stream",
          "name": "stdout",
          "text": [
            "10\n",
            "10\n"
          ]
        }
      ]
    },
    {
      "cell_type": "code",
      "source": [
        "print(10)\n",
        "print(\"10\")\n",
        "print(\"5+10\")\n",
        "print(type(True))\n",
        "print(\"10+10\")"
      ],
      "metadata": {
        "colab": {
          "base_uri": "https://localhost:8080/"
        },
        "id": "2GPp9iGxUTXD",
        "outputId": "60403d6d-a4c2-45d4-a083-8cde88db6127"
      },
      "execution_count": 9,
      "outputs": [
        {
          "output_type": "stream",
          "name": "stdout",
          "text": [
            "10\n",
            "10\n",
            "5+10\n",
            "<class 'bool'>\n",
            "10+10\n"
          ]
        }
      ]
    },
    {
      "cell_type": "code",
      "source": [
        "name ='Sahil'\n",
        "print(name)"
      ],
      "metadata": {
        "colab": {
          "base_uri": "https://localhost:8080/"
        },
        "id": "uUbDEbBfUTUq",
        "outputId": "4c88ff5b-5c74-4a36-b0b1-e977b952ce15"
      },
      "execution_count": 11,
      "outputs": [
        {
          "output_type": "stream",
          "name": "stdout",
          "text": [
            "Sahil\n"
          ]
        }
      ]
    },
    {
      "cell_type": "code",
      "source": [
        "#start\n",
        "x = 3 # x is 3\n",
        "y = 'hello'  # x is 3, y is 'hello\n",
        "num = y # x is 3, y is 'hello, num is 'hello'\n",
        "y = 5 # x is 3, y is 5, num is 'hello'# x is 3, y is 'hello, num is 'hello'\n",
        "print(num, y)"
      ],
      "metadata": {
        "colab": {
          "base_uri": "https://localhost:8080/"
        },
        "id": "1ILNqGfjUTRj",
        "outputId": "45278c4a-c25b-4306-bffa-513ded9b7323"
      },
      "execution_count": 12,
      "outputs": [
        {
          "output_type": "stream",
          "name": "stdout",
          "text": [
            "hello 5\n"
          ]
        }
      ]
    },
    {
      "cell_type": "code",
      "source": [
        "print('2' + \"2\" +\"\"\"3\"\"\"+'''4''')"
      ],
      "metadata": {
        "colab": {
          "base_uri": "https://localhost:8080/"
        },
        "id": "ogFqLpGLUTPu",
        "outputId": "728d2677-ed64-4149-dd41-b99a75aa6818"
      },
      "execution_count": 13,
      "outputs": [
        {
          "output_type": "stream",
          "name": "stdout",
          "text": [
            "2234\n"
          ]
        }
      ]
    }
  ]
}